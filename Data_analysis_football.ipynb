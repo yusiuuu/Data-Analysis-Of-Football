{
 "cells": [
  {
   "cell_type": "code",
   "execution_count": 1,
   "metadata": {
    "collapsed": false,
    "jupyter": {
     "outputs_hidden": false
    }
   },
   "outputs": [
    {
     "data": {
      "text/html": [
       "        <script type=\"text/javascript\">\n",
       "        window.PlotlyConfig = {MathJaxConfig: 'local'};\n",
       "        if (window.MathJax && window.MathJax.Hub && window.MathJax.Hub.Config) {window.MathJax.Hub.Config({SVG: {font: \"STIX-Web\"}});}\n",
       "        if (typeof require !== 'undefined') {\n",
       "        require.undef(\"plotly\");\n",
       "        requirejs.config({\n",
       "            paths: {\n",
       "                'plotly': ['https://cdn.plot.ly/plotly-2.35.2.min']\n",
       "            }\n",
       "        });\n",
       "        require(['plotly'], function(Plotly) {\n",
       "            window._Plotly = Plotly;\n",
       "        });\n",
       "        }\n",
       "        </script>\n",
       "        "
      ]
     },
     "metadata": {},
     "output_type": "display_data"
    }
   ],
   "source": [
    "import numpy as np # linear algebra\n",
    "import pandas as pd # data processing, CSV file I/O (e.g. pd.read_csv)\n",
    "\n",
    "import random\n",
    "import seaborn as sns\n",
    "import matplotlib.pyplot as plt\n",
    "%matplotlib inline\n",
    "from plotly.offline import download_plotlyjs, init_notebook_mode, plot, iplot\n",
    "import plotly.offline as py\n",
    "py.init_notebook_mode(connected=True)\n",
    "import plotly.graph_objs as go\n",
    "\n",
    "# For example, running this (by clicking run or pressing Shift+Enter) will list the files in the input directory\n",
    "\n",
    "from subprocess import check_output"
   ]
  },
  {
   "cell_type": "code",
   "execution_count": 2,
   "metadata": {
    "collapsed": false,
    "jupyter": {
     "outputs_hidden": false
    }
   },
   "outputs": [
    {
     "name": "stdout",
     "output_type": "stream",
     "text": [
      " Volume in drive C is Windows-SSD\n",
      " Volume Serial Number is 704D-7E7D\n",
      "\n",
      " Directory of C:\\Users\\moham\\Downloads\\Placements\\Data-analysis\\Football-Dataset-Analysis\n",
      "\n",
      "10-09-2025  20:23    <DIR>          .\n",
      "10-09-2025  19:41    <DIR>          ..\n",
      "10-09-2025  19:39    <DIR>          .ipynb_checkpoints\n",
      "10-09-2025  19:37         2,159,885 barca.jpg\n",
      "10-09-2025  19:37         2,166,742 barcavsrealmadrid.jpg\n",
      "10-09-2025  20:23            60,282 Data_analysis_football.ipynb\n",
      "10-09-2025  19:37         1,252,445 Data_analysis_footballv1.ipynb\n",
      "10-09-2025  19:37         5,578,231 Football Event Analysis.pdf\n",
      "10-09-2025  19:37         2,006,820 Football_Dataset_Analysis-v1.ipynb\n",
      "10-09-2025  19:37           766,186 football_dataset_analysis.ipynb\n",
      "10-09-2025  19:37           859,303 Football_Event_Analysis-SARAH-SONNA-LIONEL.ipynb\n",
      "10-09-2025  19:37           468,944 Football_Event_Analysis-SONNA.ipynb\n",
      "10-09-2025  19:37           340,248 football_goal_prediction_ml.ipynb\n",
      "10-09-2025  19:37           113,608 football_tabular_fastai.ipynb\n",
      "10-09-2025  19:37         1,346,713 goals.jpg\n",
      "10-09-2025  19:37         2,947,511 Lastminutewinners.jpg\n",
      "10-09-2025  19:37         1,356,842 lessoffensiveteam.jpg\n",
      "10-09-2025  19:37            83,425 logo.png\n",
      "10-09-2025  19:37            61,635 Number_of_goals_prediction.ipynb\n",
      "10-09-2025  19:37         1,468,586 offensiveteam.jpg\n",
      "10-09-2025  19:37         1,504,477 offensiveteamplayer.jpg\n",
      "10-09-2025  19:37             4,505 README.md\n",
      "10-09-2025  19:37         2,153,575 realmadrid.jpg\n",
      "10-09-2025  19:37         1,475,833 redcard.jpg\n",
      "10-09-2025  19:37         3,045,266 ShootingAccuracy.jpg\n",
      "              22 File(s)     31,221,062 bytes\n",
      "               3 Dir(s)  216,493,084,672 bytes free\n",
      "\n"
     ]
    }
   ],
   "source": [
    "print(check_output([\"cmd\", \"/c\", \"dir\"]).decode(\"utf8\"))\n",
    "\n",
    "\n",
    "# Any results you write to the current directory are saved as output."
   ]
  },
  {
   "cell_type": "code",
   "execution_count": 3,
   "metadata": {
    "collapsed": false,
    "jupyter": {
     "outputs_hidden": false
    }
   },
   "outputs": [],
   "source": [
    "## Loading events dataset\n",
    "df_events = pd.read_csv(r\"C:\\Users\\moham\\Downloads\\Placements\\Data-analysis\\events.csv\")\n",
    "df_game_info = pd.read_csv(r\"C:\\Users\\moham\\Downloads\\Placements\\Data-analysis\\ginf.csv\")\n",
    "## Selecting only the features I need. `id_odsp` serves as a unique identifier that will be used to \n",
    "## union the 2 datasets\n",
    "df_game_info = df_game_info[['id_odsp', 'date', 'league', 'season', 'country']]\n"
   ]
  },
  {
   "cell_type": "code",
   "execution_count": 4,
   "metadata": {},
   "outputs": [],
   "source": [
    "## Join the 2 datasets to add 'date', 'league', 'season', and 'country' information to the main dataset\n",
    "df_events = df_events.merge(df_game_info, how='left')"
   ]
  },
  {
   "cell_type": "code",
   "execution_count": 5,
   "metadata": {},
   "outputs": [],
   "source": [
    "## Naming the leagues with their popular names, which will make thinks much clear for us\n",
    "leagues = {'E0': 'Premier League', 'SP1': 'La Liga',\n",
    "          'I1': 'Serie A', 'F1': 'League One', 'D1': 'Bundesliga'}\n"
   ]
  },
  {
   "cell_type": "code",
   "execution_count": 6,
   "metadata": {},
   "outputs": [],
   "source": [
    "## Apply the mapping\n",
    "df_events['league'] = df_events['league'].map(leagues)"
   ]
  },
  {
   "cell_type": "code",
   "execution_count": 7,
   "metadata": {
    "collapsed": false,
    "jupyter": {
     "outputs_hidden": false
    }
   },
   "outputs": [],
   "source": [
    "def plot_barplot(data, x_ticks, x_labels, y_labels, title, color='Accent_r', num=10, figsize=8):\n",
    "    ## Set standard style\n",
    "    sns.set_style(\"whitegrid\")\n",
    "\n",
    "    ## Set figure size\n",
    "    plt.figure(figsize=(num, figsize))\n",
    "\n",
    "    ## Plotting data with a color palette applied explicitly\n",
    "    ax = sns.barplot(\n",
    "        x=[j for j in range(len(data))],\n",
    "        y=data.values,\n",
    "        palette=sns.color_palette(color, len(data))  # Fix here: Apply color palette properly\n",
    "    )\n",
    "\n",
    "    ## Setting x-ticks\n",
    "    ax.set_xticks([j for j in range(len(data))])\n",
    "    ax.set_xticklabels(x_ticks, rotation=45)\n",
    "\n",
    "    ## Set labels and title\n",
    "    ax.set(xlabel=x_labels, ylabel=y_labels, title=title)\n",
    "\n",
    "    plt.tight_layout()\n",
    "    plt.show()\n"
   ]
  },
  {
   "cell_type": "code",
   "execution_count": 8,
   "metadata": {
    "collapsed": false,
    "jupyter": {
     "outputs_hidden": false
    }
   },
   "outputs": [],
   "source": [
    "## Utility function to plot bar plots with similar configuration\n",
    "def plot_barplot(data, x_ticks, x_labels, y_labels, title, color='muted', num=10, figsize=8):\n",
    "    ## Set standard style as whitegrid (this also could be customized via param)\n",
    "    sns.set_style(\"whitegrid\")   # Proposed themes: darkgrid, whitegrid, dark, white, and ticks\n",
    "\n",
    "    ## Set a figure with custom figsize\n",
    "    plt.figure(figsize=(num, figsize))\n",
    "    ## Plottin data\n",
    "    ax = sns.barplot(x = [j for j in range(0, len(data))], y=data.values, palette=color)\n",
    "    ## Setting ticks extracted from data indexes\n",
    "    ax.set_xticks([j for j in range(0, len(data))])\n",
    "    ## Set labels of the chart\n",
    "    ax.set_xticklabels(x_ticks, rotation=45)\n",
    "    ax.set(xlabel = x_labels, ylabel = y_labels, title = title)\n",
    "    ax.plot();\n",
    "    plt.tight_layout()"
   ]
  },
  {
   "cell_type": "code",
   "execution_count": 9,
   "metadata": {
    "collapsed": false,
    "jupyter": {
     "outputs_hidden": false
    }
   },
   "outputs": [
    {
     "name": "stdout",
     "output_type": "stream",
     "text": [
      "11\n",
      "11\n"
     ]
    },
    {
     "name": "stderr",
     "output_type": "stream",
     "text": [
      "C:\\Users\\moham\\AppData\\Local\\Temp\\ipykernel_6696\\479868677.py:9: FutureWarning:\n",
      "\n",
      "\n",
      "\n",
      "Passing `palette` without assigning `hue` is deprecated and will be removed in v0.14.0. Assign the `x` variable to `hue` and set `legend=False` for the same effect.\n",
      "\n",
      "\n"
     ]
    }
   ],
   "source": [
    "## Count of events occurecies\n",
    "events_series = df_events['event_type'].value_counts()\n",
    "\n",
    "print(len(events_series))        # Number of bars (should match num ticks)\n",
    "print(len(events_series.index))  # This gives the number of unique event types\n",
    "\n",
    "\n",
    "plot_barplot(events_series, events_series.index,  # Use the index (event type names)\n",
    "            \"Event type\", \"Number of events\", \"Event types\", 'Accent_r', 10, 5)"
   ]
  },
  {
   "cell_type": "code",
   "execution_count": 10,
   "metadata": {
    "collapsed": false,
    "jupyter": {
     "outputs_hidden": false
    }
   },
   "outputs": [
    {
     "name": "stderr",
     "output_type": "stream",
     "text": [
      "C:\\Users\\moham\\AppData\\Local\\Temp\\ipykernel_6696\\479868677.py:9: FutureWarning:\n",
      "\n",
      "\n",
      "\n",
      "Passing `palette` without assigning `hue` is deprecated and will be removed in v0.14.0. Assign the `x` variable to `hue` and set `legend=False` for the same effect.\n",
      "\n",
      "\n"
     ]
    }
   ],
   "source": [
    "## Filter attempts that did NOT result in goals\n",
    "df_shot_places = df_events[(df_events['event_type'] == 1) & \n",
    "                           (df_events['is_goal'] == 0)]['shot_place'].value_counts()\n",
    "\n",
    "## Take top 5 most frequent shot places\n",
    "top_shot_places_no_goal = df_shot_places.head(5)\n",
    "\n",
    "## Plot the chart\n",
    "plot_barplot(\n",
    "    top_shot_places_no_goal,\n",
    "    top_shot_places_no_goal.index,\n",
    "    'Shot places',\n",
    "    'Number of events',\n",
    "    'Shot places not resulting in goals',\n",
    "    'BuGn_r',\n",
    "    8,\n",
    "    5\n",
    ")\n"
   ]
  },
  {
   "cell_type": "code",
   "execution_count": 11,
   "metadata": {
    "collapsed": false,
    "jupyter": {
     "outputs_hidden": false
    }
   },
   "outputs": [
    {
     "name": "stderr",
     "output_type": "stream",
     "text": [
      "C:\\Users\\moham\\AppData\\Local\\Temp\\ipykernel_6696\\479868677.py:9: FutureWarning:\n",
      "\n",
      "\n",
      "\n",
      "Passing `palette` without assigning `hue` is deprecated and will be removed in v0.14.0. Assign the `x` variable to `hue` and set `legend=False` for the same effect.\n",
      "\n",
      "\n"
     ]
    }
   ],
   "source": [
    "## Filter attempts where goal was NOT scored\n",
    "df_shot_places = df_events[(df_events['event_type'] == 1) & \n",
    "                           (df_events['is_goal'] == 0)]['shot_place'].value_counts()\n",
    "\n",
    "## Take top 5 most frequent shot places\n",
    "top_shot_places_no_goal = df_shot_places.head(5)\n",
    "\n",
    "## Plot the chart\n",
    "plot_barplot(\n",
    "    top_shot_places_no_goal,\n",
    "    top_shot_places_no_goal.index,\n",
    "    'Shot places',\n",
    "    'Number of events',\n",
    "    'Shot places not resulting in goals',\n",
    "    'BuGn_r',\n",
    "    8,\n",
    "    5\n",
    ")\n"
   ]
  },
  {
   "cell_type": "code",
   "execution_count": 12,
   "metadata": {
    "collapsed": false,
    "jupyter": {
     "outputs_hidden": false
    }
   },
   "outputs": [
    {
     "name": "stderr",
     "output_type": "stream",
     "text": [
      "C:\\Users\\moham\\AppData\\Local\\Temp\\ipykernel_6696\\479868677.py:9: FutureWarning:\n",
      "\n",
      "\n",
      "\n",
      "Passing `palette` without assigning `hue` is deprecated and will be removed in v0.14.0. Assign the `x` variable to `hue` and set `legend=False` for the same effect.\n",
      "\n",
      "\n"
     ]
    }
   ],
   "source": [
    "## Copying original dataframe\n",
    "df_shot_places_ed = df_events.copy()\n",
    "\n",
    "## Grouping data by shot places\n",
    "df_shot_places_ed = df_events.groupby('shot_place', as_index=False).count().sort_values('id_event',\n",
    "                                                   ascending=False).dropna()\n",
    "\n",
    "## Mapping dataframe index to shot places labels available in the dictionary file\n",
    "df_shot_places_ed['shot_place'] = df_shot_places_ed['shot_place'].map(df_shot_places)\n",
    "\n",
    "## Plotting the chart\n",
    "plot_barplot(df_shot_places_ed['id_event'], df_shot_places_ed['shot_place'],\n",
    "             'Shot places',\n",
    "             'Number of events',\n",
    "             'Shot places',\n",
    "             'BuGn_r', 8, 5)"
   ]
  },
  {
   "cell_type": "code",
   "execution_count": 13,
   "metadata": {
    "collapsed": false,
    "jupyter": {
     "outputs_hidden": false
    }
   },
   "outputs": [
    {
     "name": "stderr",
     "output_type": "stream",
     "text": [
      "C:\\Users\\moham\\AppData\\Local\\Temp\\ipykernel_6696\\479868677.py:9: FutureWarning:\n",
      "\n",
      "\n",
      "\n",
      "Passing `palette` without assigning `hue` is deprecated and will be removed in v0.14.0. Assign the `x` variable to `hue` and set `legend=False` for the same effect.\n",
      "\n",
      "\n"
     ]
    }
   ],
   "source": [
    "## Grouping attempts by team\n",
    "grouping_by_offensive = df_events[df_events['is_goal']==1].groupby('event_team')\n",
    "\n",
    "## Sorting the values\n",
    "grouping_by_offensive = grouping_by_offensive.count().sort_values(by='id_event', ascending=False)[:10]\n",
    "teams = grouping_by_offensive.index\n",
    "scores = grouping_by_offensive['id_event']\n",
    "\n",
    "## Plotting the teams\n",
    "plot_barplot(scores, teams, 'Teams', '# of goals', 'Most offensive teams', 'GnBu_d', 8, 6)"
   ]
  },
  {
   "cell_type": "code",
   "execution_count": 14,
   "metadata": {
    "collapsed": false,
    "jupyter": {
     "outputs_hidden": false
    }
   },
   "outputs": [
    {
     "name": "stderr",
     "output_type": "stream",
     "text": [
      "C:\\Users\\moham\\AppData\\Local\\Temp\\ipykernel_6696\\479868677.py:9: FutureWarning:\n",
      "\n",
      "\n",
      "\n",
      "Passing `palette` without assigning `hue` is deprecated and will be removed in v0.14.0. Assign the `x` variable to `hue` and set `legend=False` for the same effect.\n",
      "\n",
      "\n"
     ]
    }
   ],
   "source": [
    "## Grouping attempts by team\n",
    "grouping_by_offensive = df_events[df_events['is_goal']==1].groupby('event_team')\n",
    "\n",
    "## Sorting the values\n",
    "grouping_by_offensive = grouping_by_offensive.count().sort_values(by='id_event', ascending=True)[:10]\n",
    "teams = grouping_by_offensive.index\n",
    "scores = grouping_by_offensive['id_event']\n",
    "\n",
    "## Plotting the teams\n",
    "plot_barplot(scores, teams, 'Teams', '# of goals', 'Less offensive teams', 'GnBu_d', 8, 6)"
   ]
  },
  {
   "cell_type": "code",
   "execution_count": 15,
   "metadata": {
    "collapsed": false,
    "jupyter": {
     "outputs_hidden": false
    }
   },
   "outputs": [
    {
     "name": "stderr",
     "output_type": "stream",
     "text": [
      "C:\\Users\\moham\\AppData\\Local\\Temp\\ipykernel_6696\\479868677.py:9: FutureWarning:\n",
      "\n",
      "\n",
      "\n",
      "Passing `palette` without assigning `hue` is deprecated and will be removed in v0.14.0. Assign the `x` variable to `hue` and set `legend=False` for the same effect.\n",
      "\n",
      "\n"
     ]
    }
   ],
   "source": [
    "## grouping by player when is goal\n",
    "grouping_by_offensive_player = df_events[df_events['is_goal']==1].groupby('player')\n",
    "\n",
    "## Couting and sorting the number of goals by player, then pick the top 10\n",
    "grouping_by_offensive_player = grouping_by_offensive_player.count().sort_values(by='id_event',\n",
    "                                                                                ascending=False)[:10]\n",
    "## Extracting player names\n",
    "players = grouping_by_offensive_player.index\n",
    "## Extracting values (# of goals)\n",
    "scores = grouping_by_offensive_player['id_event']\n",
    "\n",
    "## Plotting the chart\n",
    "plot_barplot(scores, players, 'Players', '# of score', 'Most offensive players', 'GnBu_d', 8, 6)"
   ]
  },
  {
   "cell_type": "code",
   "execution_count": 16,
   "metadata": {
    "collapsed": false,
    "jupyter": {
     "outputs_hidden": false
    }
   },
   "outputs": [],
   "source": [
    "## Loading events dataset\n",
    "df_events1 = pd.read_csv(r\"C:\\Users\\moham\\Downloads\\Placements\\Data-analysis\\events.csv\")\n",
    "df_ginf1   = pd.read_csv(r\"C:\\Users\\moham\\Downloads\\Placements\\Data-analysis\\ginf.csv\")\n",
    "\n",
    "## Selecting only the features I need. `id_odsp` serves as a unique identifier that will be used to \n",
    "## union the 2 datasets\n",
    "## Join the 2 datasets to add 'date', 'league', 'season', and 'country' information to the main dataset\n",
    "df_events1 = df_events1.merge(df_ginf1, how='left')\n",
    "df_events1 = df_events1[['id_odsp', 'id_event', 'league', 'season', 'ht', 'at', 'event_team', 'is_goal']]\n",
    "## Naming the leagues with their popular names, which will make thinks much clear for us\n",
    "leagues = {'E0': 'Premier League', 'SP1': 'La Liga',\n",
    "          'I1': 'Serie A', 'F1': 'League One', 'D1': 'Bundesliga'}\n",
    "## Apply the mapping\n",
    "df_events1['league'] = df_events1['league'].map(leagues)\n",
    "\n",
    "# cats = ['id_odsp', 'id_event', 'league', 'season', 'ht', 'at', 'event_team']\n",
    "# d = dict.fromkeys(cats,'category')\n",
    "# df_events1 = df_events1.astype(d)"
   ]
  },
  {
   "cell_type": "code",
   "execution_count": 17,
   "metadata": {
    "collapsed": false,
    "jupyter": {
     "outputs_hidden": false
    }
   },
   "outputs": [
    {
     "name": "stdout",
     "output_type": "stream",
     "text": [
      "<class 'pandas.core.frame.DataFrame'>\n",
      "RangeIndex: 941009 entries, 0 to 941008\n",
      "Data columns (total 8 columns):\n",
      " #   Column      Non-Null Count   Dtype \n",
      "---  ------      --------------   ----- \n",
      " 0   id_odsp     941009 non-null  object\n",
      " 1   id_event    941009 non-null  object\n",
      " 2   league      941009 non-null  object\n",
      " 3   season      941009 non-null  int64 \n",
      " 4   ht          941009 non-null  object\n",
      " 5   at          941009 non-null  object\n",
      " 6   event_team  941009 non-null  object\n",
      " 7   is_goal     941009 non-null  int64 \n",
      "dtypes: int64(2), object(6)\n",
      "memory usage: 57.4+ MB\n"
     ]
    }
   ],
   "source": [
    "df_events1.info()"
   ]
  },
  {
   "cell_type": "code",
   "execution_count": 18,
   "metadata": {},
   "outputs": [],
   "source": [
    "import warnings\n",
    "warnings.filterwarnings('ignore')"
   ]
  },
  {
   "cell_type": "code",
   "execution_count": 19,
   "metadata": {
    "collapsed": false,
    "jupyter": {
     "outputs_hidden": false
    }
   },
   "outputs": [
    {
     "name": "stdout",
     "output_type": "stream",
     "text": [
      "['Bundesliga' 'League One' 'La Liga' 'Serie A' 'Premier League']\n",
      "[np.int64(2012), np.int64(2013), np.int64(2014), np.int64(2015), np.int64(2016), np.int64(2017)]\n"
     ]
    }
   ],
   "source": [
    "Leagues = df_events1['league'].unique()\n",
    "Seasons = list(df_events1['season'].unique())\n",
    "print(Leagues)\n",
    "print(Seasons)"
   ]
  },
  {
   "cell_type": "code",
   "execution_count": 20,
   "metadata": {
    "collapsed": false,
    "jupyter": {
     "outputs_hidden": false
    }
   },
   "outputs": [
    {
     "data": {
      "text/plain": [
       "array(['Borussia Dortmund', 'FC Augsburg', 'Werder Bremen',\n",
       "       'Hertha Berlin', 'FC Cologne', 'VfB Stuttgart', 'Hannover 96',\n",
       "       'Mainz', 'Bayern Munich', 'Schalke 04', 'TSG Hoffenheim',\n",
       "       'Nurnberg', 'SC Freiburg', 'Hamburg SV',\n",
       "       'Borussia Monchengladbach', 'VfL Wolfsburg', 'Bayer Leverkusen',\n",
       "       'Kaiserslautern'], dtype=object)"
      ]
     },
     "execution_count": 20,
     "metadata": {},
     "output_type": "execute_result"
    }
   ],
   "source": [
    "df_events1[df_events1['league']== 'Bundesliga'][df_events1['season'] == 2012]['ht'].unique()"
   ]
  },
  {
   "cell_type": "code",
   "execution_count": 21,
   "metadata": {
    "collapsed": false,
    "jupyter": {
     "outputs_hidden": false
    },
    "scrolled": true
   },
   "outputs": [
    {
     "name": "stdout",
     "output_type": "stream",
     "text": [
      "**** Informations about Bundesliga 2017 ****\n",
      "                       ATeam ButsE\n",
      "0              Werder Bremen    57\n",
      "1          Borussia Dortmund    56\n",
      "2                      Mainz    55\n",
      "3                SC Freiburg    51\n",
      "4           Bayer Leverkusen    51\n",
      "5              Bayern Munich    50\n",
      "6                 RB Leipzig    48\n",
      "7                 Hamburg SV    46\n",
      "8             TSG Hoffenheim    46\n",
      "9              Hertha Berlin    44\n",
      "10          FC Ingolstadt 04    42\n",
      "11           SV Darmstadt 98    41\n",
      "12                Schalke 04    40\n",
      "13             VfL Wolfsburg    39\n",
      "14  Borussia Monchengladbach    39\n",
      "15       Eintracht Frankfurt    37\n",
      "16                FC Cologne    36\n",
      "17               FC Augsburg    32\n",
      "**** Informations about Bundesliga 2016 ****\n",
      "                       ATeam ButsE\n",
      "0              VfB Stuttgart   121\n",
      "1   Borussia Monchengladbach   115\n",
      "2              Werder Bremen   114\n",
      "3          Borussia Dortmund   112\n",
      "4                 Schalke 04    95\n",
      "5              Bayern Munich    92\n",
      "6           Bayer Leverkusen    90\n",
      "7              VfL Wolfsburg    90\n",
      "8            SV Darmstadt 98    89\n",
      "9                Hannover 96    89\n",
      "10               FC Augsburg    89\n",
      "11                     Mainz    88\n",
      "12            TSG Hoffenheim    86\n",
      "13       Eintracht Frankfurt    85\n",
      "14             Hertha Berlin    83\n",
      "15                Hamburg SV    82\n",
      "16                FC Cologne    76\n",
      "17          FC Ingolstadt 04    70\n",
      "**** Informations about Bundesliga 2015 ****\n",
      "                       ATeam ButsE\n",
      "0              Werder Bremen   114\n",
      "1        Eintracht Frankfurt   113\n",
      "2              VfL Wolfsburg   106\n",
      "3             TSG Hoffenheim   102\n",
      "4           Bayer Leverkusen    98\n",
      "5              VfB Stuttgart    97\n",
      "6              Bayern Munich    95\n",
      "7               SC Paderborn    93\n",
      "8                Hannover 96    92\n",
      "9                      Mainz    86\n",
      "10               FC Augsburg    84\n",
      "11             Hertha Berlin    84\n",
      "12         Borussia Dortmund    83\n",
      "13                Schalke 04    80\n",
      "14  Borussia Monchengladbach    79\n",
      "15                Hamburg SV    75\n",
      "16                FC Cologne    73\n",
      "17               SC Freiburg    40\n",
      "**** Informations about Bundesliga 2014 ****\n",
      "                         ATeam ButsE\n",
      "0               TSG Hoffenheim   115\n",
      "1            Borussia Dortmund   110\n",
      "2                Bayern Munich   108\n",
      "3                   Hamburg SV   108\n",
      "4                VfL Wolfsburg   102\n",
      "5                VfB Stuttgart   102\n",
      "6                Werder Bremen   100\n",
      "7                     Nurnberg    96\n",
      "8                  Hannover 96    92\n",
      "9                   Schalke 04    91\n",
      "10                 SC Freiburg    89\n",
      "11         Eintracht Frankfurt    87\n",
      "12                       Mainz    85\n",
      "13                 FC Augsburg    85\n",
      "14    Borussia Monchengladbach    84\n",
      "15            Bayer Leverkusen    82\n",
      "16  TSV Eintracht Braunschweig    79\n",
      "17               Hertha Berlin    73\n",
      "**** Informations about Bundesliga 2013 ****\n",
      "                       ATeam ButsE\n",
      "0          Borussia Dortmund   121\n",
      "1                Hannover 96   117\n",
      "2              Bayern Munich   115\n",
      "3              Werder Bremen   114\n",
      "4             TSG Hoffenheim   108\n",
      "5                 Schalke 04   104\n",
      "6           Bayer Leverkusen   103\n",
      "7              VfL Wolfsburg    98\n",
      "8         Fortuna Dusseldorf    96\n",
      "9        Eintracht Frankfurt    94\n",
      "10                Hamburg SV    94\n",
      "11  Borussia Monchengladbach    93\n",
      "12             VfB Stuttgart    90\n",
      "13               SC Freiburg    85\n",
      "14      SpVgg Greuther Furth    85\n",
      "15                  Nurnberg    84\n",
      "16                     Mainz    84\n",
      "17               FC Augsburg    83\n",
      "**** Informations about Bundesliga 2012 ****\n",
      "                       ATeam ButsE\n",
      "0                 Schalke 04   112\n",
      "1                 FC Cologne   105\n",
      "2              VfB Stuttgart   104\n",
      "3              VfL Wolfsburg   103\n",
      "4                SC Freiburg   102\n",
      "5          Borussia Dortmund   101\n",
      "6              Werder Bremen   100\n",
      "7              Hertha Berlin    99\n",
      "8                      Mainz    96\n",
      "9              Bayern Munich    95\n",
      "10          Bayer Leverkusen    93\n",
      "11                Hamburg SV    85\n",
      "12            TSG Hoffenheim    84\n",
      "13               Hannover 96    80\n",
      "14                  Nurnberg    80\n",
      "15               FC Augsburg    75\n",
      "16            Kaiserslautern    73\n",
      "17  Borussia Monchengladbach    73\n",
      "**** Informations about League One 2017 ****\n",
      "                  ATeam ButsE\n",
      "0             AS Monaco    84\n",
      "1               Lorient    66\n",
      "2                  Lyon    61\n",
      "3           Montpellier    61\n",
      "4                  Caen    57\n",
      "5             Dijon FCO    56\n",
      "6                  Metz    56\n",
      "7   Paris Saint-Germain    55\n",
      "8                  Nice    49\n",
      "9             Marseille    49\n",
      "10             Guingamp    49\n",
      "11             Bordeaux    46\n",
      "12         Stade Rennes    45\n",
      "13                Lille    45\n",
      "14               Angers    44\n",
      "15             Toulouse    44\n",
      "16               Bastia    43\n",
      "17               Nantes    42\n",
      "18           St Etienne    39\n",
      "19    AS Nancy Lorraine    39\n",
      "**** Informations about League One 2016 ****\n",
      "                  ATeam ButsE\n",
      "0   Paris Saint-Germain   115\n",
      "1                Troyes   106\n",
      "2              Bordeaux   105\n",
      "3             AS Monaco   104\n",
      "4                  Lyon   103\n",
      "5          Stade Rennes   102\n",
      "6               Lorient   102\n",
      "7              Guingamp    97\n",
      "8        Stade de Reims    96\n",
      "9              Toulouse    95\n",
      "10          Montpellier    93\n",
      "11                 Nice    92\n",
      "12          GFC Ajaccio    91\n",
      "13                 Caen    90\n",
      "14            Marseille    87\n",
      "15           St Etienne    76\n",
      "16               Bastia    75\n",
      "17               Angers    72\n",
      "18               Nantes    72\n",
      "19                Lille    65\n",
      "**** Informations about League One 2015 ****\n",
      "                    ATeam ButsE\n",
      "0     Paris Saint-Germain   117\n",
      "1               Marseille   116\n",
      "2          Stade de Reims   111\n",
      "3                    Caen   107\n",
      "4                Toulouse   107\n",
      "5                    Lyon   105\n",
      "6   Evian Thonon Gaillard   101\n",
      "7                    Nice    97\n",
      "8                Guingamp    95\n",
      "9                    Lens    93\n",
      "10                Lorient    92\n",
      "11                   Metz    91\n",
      "12               Bordeaux    90\n",
      "13                 Bastia    83\n",
      "14                  Lille    83\n",
      "15            Montpellier    83\n",
      "16             St Etienne    80\n",
      "17           Stade Rennes    76\n",
      "18              AS Monaco    76\n",
      "19                 Nantes    67\n",
      "**** Informations about League One 2014 ****\n",
      "                    ATeam ButsE\n",
      "0              AC Ajaccio   108\n",
      "1     Paris Saint-Germain   107\n",
      "2            Valenciennes   102\n",
      "3                 Lorient   101\n",
      "4                    Lyon   100\n",
      "5                Toulouse    99\n",
      "6                  Bastia    98\n",
      "7             Montpellier    97\n",
      "8                 Sochaux    96\n",
      "9          Stade de Reims    96\n",
      "10              AS Monaco    94\n",
      "11           Stade Rennes    92\n",
      "12              Marseille    91\n",
      "13               Bordeaux    91\n",
      "14  Evian Thonon Gaillard    89\n",
      "15             St Etienne    89\n",
      "16                 Nantes    78\n",
      "17               Guingamp    75\n",
      "18                   Nice    74\n",
      "19                  Lille    71\n",
      "**** Informations about League One 2013 ****\n",
      "                    ATeam ButsE\n",
      "0                 Lorient   113\n",
      "1                  Bastia   111\n",
      "2            Stade Rennes   104\n",
      "3             Montpellier   103\n",
      "4                  Troyes   102\n",
      "5            Valenciennes   101\n",
      "6                    Nice    99\n",
      "7                    Lyon    99\n",
      "8   Evian Thonon Gaillard    98\n",
      "9                   Lille    95\n",
      "10               Toulouse    94\n",
      "11      AS Nancy Lorraine    93\n",
      "12                Sochaux    93\n",
      "13             St Etienne    92\n",
      "14    Paris Saint-Germain    91\n",
      "15                  Brest    91\n",
      "16             AC Ajaccio    87\n",
      "17              Marseille    77\n",
      "18         Stade de Reims    75\n",
      "19               Bordeaux    74\n",
      "**** Informations about League One 2012 ****\n",
      "                    ATeam ButsE\n",
      "0     Paris Saint-Germain   113\n",
      "1                   Lille   111\n",
      "2                    Lyon   108\n",
      "3   Evian Thonon Gaillard   107\n",
      "4             Montpellier   102\n",
      "5              AJ Auxerre   102\n",
      "6                 Sochaux    99\n",
      "7            Stade Rennes    96\n",
      "8               Dijon FCO    96\n",
      "9                    Caen    94\n",
      "10             AC Ajaccio    93\n",
      "11             St Etienne    90\n",
      "12               Bordeaux    89\n",
      "13           Valenciennes    89\n",
      "14                Lorient    81\n",
      "15      AS Nancy Lorraine    80\n",
      "16                   Nice    78\n",
      "17              Marseille    77\n",
      "18               Toulouse    68\n",
      "19                  Brest    67\n",
      "**** Informations about Serie A 2017 ****\n"
     ]
    },
    {
     "ename": "KeyboardInterrupt",
     "evalue": "",
     "output_type": "error",
     "traceback": [
      "\u001b[1;31m---------------------------------------------------------------------------\u001b[0m",
      "\u001b[1;31mKeyboardInterrupt\u001b[0m                         Traceback (most recent call last)",
      "Cell \u001b[1;32mIn[21], line 12\u001b[0m\n\u001b[0;32m      9\u001b[0m Games \u001b[38;5;241m=\u001b[39m df_events1[(df_events1[\u001b[38;5;124m'\u001b[39m\u001b[38;5;124mleague\u001b[39m\u001b[38;5;124m'\u001b[39m] \u001b[38;5;241m==\u001b[39m league) \u001b[38;5;241m&\u001b[39m (df_events1[\u001b[38;5;124m'\u001b[39m\u001b[38;5;124mseason\u001b[39m\u001b[38;5;124m'\u001b[39m] \u001b[38;5;241m==\u001b[39m season)][\u001b[38;5;124m'\u001b[39m\u001b[38;5;124mid_odsp\u001b[39m\u001b[38;5;124m'\u001b[39m]\u001b[38;5;241m.\u001b[39munique()\n\u001b[0;32m     11\u001b[0m \u001b[38;5;28;01mfor\u001b[39;00m game \u001b[38;5;129;01min\u001b[39;00m Games:\n\u001b[1;32m---> 12\u001b[0m     Events \u001b[38;5;241m=\u001b[39m df_events1[(df_events1[\u001b[38;5;124m'\u001b[39m\u001b[38;5;124mleague\u001b[39m\u001b[38;5;124m'\u001b[39m] \u001b[38;5;241m==\u001b[39m league) \u001b[38;5;241m&\u001b[39m \n\u001b[0;32m     13\u001b[0m                         (df_events1[\u001b[38;5;124m'\u001b[39m\u001b[38;5;124mseason\u001b[39m\u001b[38;5;124m'\u001b[39m] \u001b[38;5;241m==\u001b[39m season) \u001b[38;5;241m&\u001b[39m \n\u001b[0;32m     14\u001b[0m                         (df_events1[\u001b[38;5;124m'\u001b[39m\u001b[38;5;124mid_odsp\u001b[39m\u001b[38;5;124m'\u001b[39m] \u001b[38;5;241m==\u001b[39m game)]\n\u001b[0;32m     16\u001b[0m     ht \u001b[38;5;241m=\u001b[39m Events\u001b[38;5;241m.\u001b[39miloc[\u001b[38;5;241m1\u001b[39m, \u001b[38;5;241m4\u001b[39m]\n\u001b[0;32m     17\u001b[0m     at \u001b[38;5;241m=\u001b[39m Events\u001b[38;5;241m.\u001b[39miloc[\u001b[38;5;241m1\u001b[39m, \u001b[38;5;241m5\u001b[39m]\n",
      "File \u001b[1;32m~\\anaconda3\\Lib\\site-packages\\pandas\\core\\ops\\common.py:76\u001b[0m, in \u001b[0;36m_unpack_zerodim_and_defer.<locals>.new_method\u001b[1;34m(self, other)\u001b[0m\n\u001b[0;32m     72\u001b[0m             \u001b[38;5;28;01mreturn\u001b[39;00m \u001b[38;5;28mNotImplemented\u001b[39m\n\u001b[0;32m     74\u001b[0m other \u001b[38;5;241m=\u001b[39m item_from_zerodim(other)\n\u001b[1;32m---> 76\u001b[0m \u001b[38;5;28;01mreturn\u001b[39;00m method(\u001b[38;5;28mself\u001b[39m, other)\n",
      "File \u001b[1;32m~\\anaconda3\\Lib\\site-packages\\pandas\\core\\arraylike.py:40\u001b[0m, in \u001b[0;36mOpsMixin.__eq__\u001b[1;34m(self, other)\u001b[0m\n\u001b[0;32m     38\u001b[0m \u001b[38;5;129m@unpack_zerodim_and_defer\u001b[39m(\u001b[38;5;124m\"\u001b[39m\u001b[38;5;124m__eq__\u001b[39m\u001b[38;5;124m\"\u001b[39m)\n\u001b[0;32m     39\u001b[0m \u001b[38;5;28;01mdef\u001b[39;00m\u001b[38;5;250m \u001b[39m\u001b[38;5;21m__eq__\u001b[39m(\u001b[38;5;28mself\u001b[39m, other):\n\u001b[1;32m---> 40\u001b[0m     \u001b[38;5;28;01mreturn\u001b[39;00m \u001b[38;5;28mself\u001b[39m\u001b[38;5;241m.\u001b[39m_cmp_method(other, operator\u001b[38;5;241m.\u001b[39meq)\n",
      "File \u001b[1;32m~\\anaconda3\\Lib\\site-packages\\pandas\\core\\series.py:6119\u001b[0m, in \u001b[0;36mSeries._cmp_method\u001b[1;34m(self, other, op)\u001b[0m\n\u001b[0;32m   6116\u001b[0m lvalues \u001b[38;5;241m=\u001b[39m \u001b[38;5;28mself\u001b[39m\u001b[38;5;241m.\u001b[39m_values\n\u001b[0;32m   6117\u001b[0m rvalues \u001b[38;5;241m=\u001b[39m extract_array(other, extract_numpy\u001b[38;5;241m=\u001b[39m\u001b[38;5;28;01mTrue\u001b[39;00m, extract_range\u001b[38;5;241m=\u001b[39m\u001b[38;5;28;01mTrue\u001b[39;00m)\n\u001b[1;32m-> 6119\u001b[0m res_values \u001b[38;5;241m=\u001b[39m ops\u001b[38;5;241m.\u001b[39mcomparison_op(lvalues, rvalues, op)\n\u001b[0;32m   6121\u001b[0m \u001b[38;5;28;01mreturn\u001b[39;00m \u001b[38;5;28mself\u001b[39m\u001b[38;5;241m.\u001b[39m_construct_result(res_values, name\u001b[38;5;241m=\u001b[39mres_name)\n",
      "File \u001b[1;32m~\\anaconda3\\Lib\\site-packages\\pandas\\core\\ops\\array_ops.py:344\u001b[0m, in \u001b[0;36mcomparison_op\u001b[1;34m(left, right, op)\u001b[0m\n\u001b[0;32m    341\u001b[0m     \u001b[38;5;28;01mreturn\u001b[39;00m invalid_comparison(lvalues, rvalues, op)\n\u001b[0;32m    343\u001b[0m \u001b[38;5;28;01melif\u001b[39;00m lvalues\u001b[38;5;241m.\u001b[39mdtype \u001b[38;5;241m==\u001b[39m \u001b[38;5;28mobject\u001b[39m \u001b[38;5;129;01mor\u001b[39;00m \u001b[38;5;28misinstance\u001b[39m(rvalues, \u001b[38;5;28mstr\u001b[39m):\n\u001b[1;32m--> 344\u001b[0m     res_values \u001b[38;5;241m=\u001b[39m comp_method_OBJECT_ARRAY(op, lvalues, rvalues)\n\u001b[0;32m    346\u001b[0m \u001b[38;5;28;01melse\u001b[39;00m:\n\u001b[0;32m    347\u001b[0m     res_values \u001b[38;5;241m=\u001b[39m _na_arithmetic_op(lvalues, rvalues, op, is_cmp\u001b[38;5;241m=\u001b[39m\u001b[38;5;28;01mTrue\u001b[39;00m)\n",
      "File \u001b[1;32m~\\anaconda3\\Lib\\site-packages\\pandas\\core\\ops\\array_ops.py:130\u001b[0m, in \u001b[0;36mcomp_method_OBJECT_ARRAY\u001b[1;34m(op, x, y)\u001b[0m\n\u001b[0;32m    128\u001b[0m \u001b[38;5;28;01melse\u001b[39;00m:\n\u001b[0;32m    129\u001b[0m     result \u001b[38;5;241m=\u001b[39m libops\u001b[38;5;241m.\u001b[39mscalar_compare(x\u001b[38;5;241m.\u001b[39mravel(), y, op)\n\u001b[1;32m--> 130\u001b[0m \u001b[38;5;28;01mreturn\u001b[39;00m result\u001b[38;5;241m.\u001b[39mreshape(x\u001b[38;5;241m.\u001b[39mshape)\n",
      "\u001b[1;31mKeyboardInterrupt\u001b[0m: "
     ]
    }
   ],
   "source": [
    "for league in list(leagues.values())[::-1]:\n",
    "    if league == 'Premier League':\n",
    "        print('No details on {}'.format(league))\n",
    "    else:\n",
    "        for season in Seasons[::-1]:\n",
    "            print('**** Informations about {} {} ****'.format(league, season))\n",
    "            Stats = []\n",
    "            Teams = df_events1[(df_events1['league'] == league) & (df_events1['season'] == season)]['ht'].unique()\n",
    "            Games = df_events1[(df_events1['league'] == league) & (df_events1['season'] == season)]['id_odsp'].unique()\n",
    "            \n",
    "            for game in Games:\n",
    "                Events = df_events1[(df_events1['league'] == league) & \n",
    "                                    (df_events1['season'] == season) & \n",
    "                                    (df_events1['id_odsp'] == game)]\n",
    "                \n",
    "                ht = Events.iloc[1, 4]\n",
    "                at = Events.iloc[1, 5]\n",
    "                Butat = 0\n",
    "                Butht = 0\n",
    "                \n",
    "                for j in range(1, Events.shape[0]):\n",
    "                    if Events.iloc[j, 7] == 1:\n",
    "                        if Events.iloc[j, 6] == ht:\n",
    "                            Butat += 1\n",
    "                        else:\n",
    "                            Butht += 1\n",
    "                \n",
    "                item = [ht, at, Butht, Butat]\n",
    "                Stats.append(item)\n",
    "            \n",
    "            Stats = np.array(Stats)\n",
    "            df_Stats = pd.DataFrame({\n",
    "                'Teamht': Stats[:, 0],\n",
    "                'Butht': Stats[:, 2].astype(int),\n",
    "                'Teamat': Stats[:, 1],\n",
    "                'But at': Stats[:, 3].astype(int)\n",
    "            })\n",
    "\n",
    "            results = []\n",
    "            for team in Teams:\n",
    "                data_team = df_Stats.loc[(df_Stats['Teamht'] == team) | (df_Stats['Teamat'] == team)]\n",
    "                nbrgoals = data_team['Butht'].sum() + data_team['But at'].sum()\n",
    "                elem = [team, nbrgoals]\n",
    "                results.append(elem)\n",
    "\n",
    "            results = np.array(results)\n",
    "            ids = np.argsort(results[:, 1].astype(int))[::-1]\n",
    "            results[:, 1] = results[:, 1][ids]\n",
    "            results[:, 0] = results[:, 0][ids]\n",
    "\n",
    "            df_results = pd.DataFrame({'ATeam': results[:, 0], 'ButsE': results[:, 1]})\n",
    "            print(df_results)\n"
   ]
  },
  {
   "cell_type": "code",
   "execution_count": 22,
   "metadata": {
    "collapsed": false,
    "jupyter": {
     "outputs_hidden": false
    }
   },
   "outputs": [
    {
     "data": {
      "text/plain": [
       "array(['Bundesliga', 'League One', 'La Liga', 'Serie A', 'Premier League'],\n",
       "      dtype=object)"
      ]
     },
     "execution_count": 22,
     "metadata": {},
     "output_type": "execute_result"
    }
   ],
   "source": [
    "Leagues"
   ]
  },
  {
   "cell_type": "code",
   "execution_count": 23,
   "metadata": {
    "collapsed": false,
    "jupyter": {
     "outputs_hidden": false
    }
   },
   "outputs": [
    {
     "data": {
      "image/png": "[encoded data removed]",
      "text/plain": [
       "<Figure size 1000x500 with 1 Axes>"
      ]
     },
     "metadata": {},
     "output_type": "display_data"
    },
    {
     "data": {
      "image/png": "[encoded data removed]",
      "text/plain": [
       "<Figure size 800x500 with 1 Axes>"
      ]
     },
     "metadata": {},
     "output_type": "display_data"
    },
    {
     "data": {
      "image/png": "[encoded data removed]",
      "text/plain": [
       "<Figure size 800x500 with 1 Axes>"
      ]
     },
     "metadata": {},
     "output_type": "display_data"
    },
    {
     "data": {
      "image/png": "[encoded data removed]",
      "text/plain": [
       "<Figure size 800x500 with 1 Axes>"
      ]
     },
     "metadata": {},
     "output_type": "display_data"
    },
    {
     "data": {
      "image/png": "[encoded data removed]",
      "text/plain": [
       "<Figure size 800x600 with 1 Axes>"
      ]
     },
     "metadata": {},
     "output_type": "display_data"
    },
    {
     "data": {
      "image/png": "[encoded data removed]",
      "text/plain": [
       "<Figure size 800x600 with 1 Axes>"
      ]
     },
     "metadata": {},
     "output_type": "display_data"
    },
    {
     "data": {
      "image/png": "[encoded data removed]",
      "text/plain": [
       "<Figure size 800x600 with 1 Axes>"
      ]
     },
     "metadata": {},
     "output_type": "display_data"
    }
   ],
   "source": [
    "## grouping by player when is goal\n",
    "goal = df_events[df_events['is_goal']==1]\n",
    "\n",
    "## Plotting the hist\n",
    "# fig=plt.figure(figsize=(13,10))\n",
    "plt.hist(goal.time, 100)\n",
    "plt.xlabel(\"TIME\",fontsize=10)\n",
    "plt.ylabel(\"# of goals\",fontsize=10)\n",
    "plt.title(\"goal counts vs time\",fontsize=15)\n",
    "x=goal.groupby(by='time')['time'].count().sort_values(ascending=False).index[0]\n",
    "y=goal.groupby(by='time')['time'].count().sort_values(ascending=False).iloc[0]\n",
    "x1=goal.groupby(by='time')['time'].count().sort_values(ascending=False).index[1]\n",
    "y1=goal.groupby(by='time')['time'].count().sort_values(ascending=False).iloc[1]\n",
    "plt.text(x=x-10,y=y+10,s='time:'+str(x)+',max:'+str(y),fontsize=12,fontdict={'color':'red'})\n",
    "plt.text(x=x1-10,y=y1+10,s='time:'+str(x1)+',the 2nd max:'+str(y1),fontsize=12,fontdict={'color':'black'})\n",
    "plt.show() "
   ]
  },
  {
   "cell_type": "code",
   "execution_count": 24,
   "metadata": {
    "collapsed": false,
    "jupyter": {
     "outputs_hidden": false
    }
   },
   "outputs": [],
   "source": [
    "redCards = df_events[df_events['event_type'] == 6]['event_team']"
   ]
  },
  {
   "cell_type": "code",
   "execution_count": 25,
   "metadata": {
    "collapsed": false,
    "jupyter": {
     "outputs_hidden": false
    }
   },
   "outputs": [],
   "source": [
    "## Count of events occurecies\n",
    "redCards_series = redCards.value_counts().sort_values(ascending=True)[20:50]\n",
    "\n",
    "## Plotting chart \n",
    "plot_barplot(redCards_series, redCards_series.index,\n",
    "            \"Event_team\", \"Number of Red Cards\", \"Red Cards per team\", 'gist_earth', 10, 5)"
   ]
  },
  {
   "cell_type": "code",
   "execution_count": 26,
   "metadata": {
    "collapsed": false,
    "jupyter": {
     "outputs_hidden": false
    }
   },
   "outputs": [],
   "source": [
    "yellowCards = df_events[df_events['event_type'] == (4 or 5)]['event_team']"
   ]
  },
  {
   "cell_type": "code",
   "execution_count": 27,
   "metadata": {
    "collapsed": false,
    "jupyter": {
     "outputs_hidden": false
    }
   },
   "outputs": [],
   "source": [
    "## Count of events occurecies\n",
    "yellowCards_series = yellowCards.value_counts()[:10]\n",
    "\n",
    "## Plotting chart \n",
    "plot_barplot(yellowCards_series, yellowCards_series.index,\n",
    "            \"Event_team\", \"Number of yellow Cards\", \"Yellow Cards per team\", 'gist_earth', 10, 5)"
   ]
  },
  {
   "cell_type": "code",
   "execution_count": 28,
   "metadata": {
    "collapsed": false,
    "jupyter": {
     "outputs_hidden": false
    }
   },
   "outputs": [
    {
     "data": {
      "text/plain": [
       "array(['Hamburg SV', 'Borussia Dortmund', 'FC Augsburg', 'SC Freiburg',\n",
       "       'Werder Bremen', 'Kaiserslautern', 'Lorient',\n",
       "       'Paris Saint-Germain', 'Valenciennes', 'Caen', 'Hertha Berlin',\n",
       "       'Nurnberg', 'Evian Thonon Gaillard', 'Brest', 'AC Ajaccio',\n",
       "       'Toulouse', 'Nice', 'Lyon', 'VfL Wolfsburg', 'FC Cologne',\n",
       "       'AS Nancy Lorraine', 'Lille', 'Montpellier', 'AJ Auxerre',\n",
       "       'VfB Stuttgart', 'Schalke 04', 'Hannover 96', 'TSG Hoffenheim',\n",
       "       'Sochaux', 'Marseille', 'Bordeaux', 'St Etienne', 'Stade Rennes',\n",
       "       'Dijon FCO', 'Mainz', 'Bayer Leverkusen', 'Bayern Munich',\n",
       "       'Borussia Monchengladbach', 'Sporting Gijon', 'Real Sociedad',\n",
       "       'Valencia', 'Racing Santander', 'Real Madrid', 'Real Zaragoza',\n",
       "       'Sevilla', 'Malaga', 'Rayo Vallecano', 'Athletic Bilbao', 'Getafe',\n",
       "       'Levante', 'Osasuna', 'Atletico Madrid', 'Espanyol', 'Mallorca',\n",
       "       'Villarreal', 'Barcelona', 'AC Milan', 'Lazio', 'Cesena', 'Napoli',\n",
       "       'Internazionale', 'Palermo', 'Novara', 'Chievo Verona', 'Juventus',\n",
       "       'Parma', 'Real Betis', 'Udinese', 'Lecce', 'Siena', 'Catania',\n",
       "       'AS Roma', 'Cagliari', 'Fiorentina', 'Bologna', 'Atalanta',\n",
       "       'Genoa', 'Granada', 'Stade de Reims', 'Celta Vigo', 'Troyes',\n",
       "       'Bastia', 'Deportivo La Coruna', 'Real Valladolid',\n",
       "       'SpVgg Greuther Furth', 'Fortuna Dusseldorf',\n",
       "       'Eintracht Frankfurt', 'Torino', 'Sampdoria', 'US Pescara',\n",
       "       'AS Monaco', 'Guingamp', 'Nantes', 'Almeria', 'Elche',\n",
       "       'Hellas Verona', 'Sassuolo', 'Livorno',\n",
       "       'TSV Eintracht Braunschweig', 'Aston Villa', 'Hull', 'Fulham',\n",
       "       'Stoke City', 'Sunderland', 'Manchester Utd', 'Liverpool',\n",
       "       'Crystal Palace', 'Everton', 'Manchester City', 'Newcastle',\n",
       "       'Cardiff', 'West Brom', 'Arsenal', 'West Ham', 'Tottenham',\n",
       "       'Chelsea', 'Norwich City', 'Swansea', 'Southampton', 'Metz',\n",
       "       'Lens', 'QPR', 'Leicester City', 'Burnley', 'SC Paderborn',\n",
       "       'Eibar', 'Cordoba', 'Empoli', 'Bournemouth', 'Watford', 'Angers',\n",
       "       'GFC Ajaccio', 'SV Darmstadt 98', 'FC Ingolstadt 04', 'Las Palmas',\n",
       "       'Frosinone', 'Carpi', 'Middlesbrough', 'Alaves', 'Crotone',\n",
       "       'Leganes', 'RB Leipzig'], dtype=object)"
      ]
     },
     "execution_count": 28,
     "metadata": {},
     "output_type": "execute_result"
    }
   ],
   "source": [
    "df_events['event_team'].unique()"
   ]
  },
  {
   "cell_type": "code",
   "execution_count": 33,
   "metadata": {
    "collapsed": false,
    "jupyter": {
     "outputs_hidden": false
    }
   },
   "outputs": [],
   "source": [
    "def Team_strategy(team):  \n",
    "    goal = df_events[df_events['is_goal']==1][df_events['event_team'] == team]\n",
    "    plt.hist(goal[goal[\"situation\"]==1][\"time\"],width=1,bins=100,label=\"Open play\")   \n",
    "    plt.hist(goal[goal[\"situation\"]==2][\"time\"],width=1,bins=100,label=\"Set Piece (excluding direct FreeKick)\") \n",
    "    plt.hist(goal[goal[\"situation\"]==3][\"time\"],width=1,bins=100,label=\"Corners\") \n",
    "    plt.hist(goal[goal[\"situation\"]==4][\"time\"],width=1,bins=100,label=\"Direct Free Kick\") \n",
    "    plt.xlabel(\"Minutes\")\n",
    "    plt.ylabel(\"Number of goals\")\n",
    "    plt.legend()\n",
    "    plt.title(\"Number of goals (by situations) against Time during match for {}\".format(team), \n",
    "          fontname=\"Times New Roman\", fontsize=14, fontweight=\"bold\")\n",
    "    plt.tight_layout()"
   ]
  },
  {
   "cell_type": "code",
   "execution_count": 47,
   "metadata": {
    "collapsed": false,
    "jupyter": {
     "outputs_hidden": false
    }
   },
   "outputs": [],
   "source": [
    "#plt.subplot(4,1,1)\n",
    "team = 'Chelsea'\n",
    "Team_strategy(team)\n"
   ]
  },
  {
   "cell_type": "code",
   "execution_count": 48,
   "metadata": {
    "collapsed": false,
    "jupyter": {
     "outputs_hidden": false
    }
   },
   "outputs": [],
   "source": [
    "#plt.subplot(4,1,2)\n",
    "team = 'Juventus'\n",
    "Team_strategy(team)\n"
   ]
  },
  {
   "cell_type": "code",
   "execution_count": 49,
   "metadata": {
    "collapsed": false,
    "jupyter": {
     "outputs_hidden": false
    }
   },
   "outputs": [],
   "source": [
    "plt.subplot(4,1,3)\n",
    "team = 'Barcelona'\n",
    "Team_strategy(team)"
   ]
  },
  {
   "cell_type": "code",
   "execution_count": 50,
   "metadata": {
    "collapsed": false,
    "jupyter": {
     "outputs_hidden": false
    }
   },
   "outputs": [],
   "source": [
    "plt.subplot(4,1,4)\n",
    "team = 'Real Madrid'\n",
    "Team_strategy(team)"
   ]
  },
  {
   "cell_type": "code",
   "execution_count": 51,
   "metadata": {
    "collapsed": false,
    "jupyter": {
     "outputs_hidden": false
    }
   },
   "outputs": [],
   "source": [
    "# Penalties\n",
    "penalties=df_events[df_events[\"location\"]==14]"
   ]
  },
  {
   "cell_type": "code",
   "execution_count": 52,
   "metadata": {
    "collapsed": false,
    "jupyter": {
     "outputs_hidden": false
    }
   },
   "outputs": [
    {
     "name": "stdout",
     "output_type": "stream",
     "text": [
      "0\n",
      "2\n"
     ]
    }
   ],
   "source": [
    "# Check the shot place\n",
    "for i in range(14):\n",
    "    if sum(penalties[\"shot_place\"]==i)==0:\n",
    "        print(i)"
   ]
  },
  {
   "cell_type": "code",
   "execution_count": 54,
   "metadata": {
    "collapsed": false,
    "jupyter": {
     "outputs_hidden": false
    }
   },
   "outputs": [
    {
     "data": {
      "image/png": "[encoded data removed]",
      "text/plain": [
       "<Figure size 1000x800 with 1 Axes>"
      ]
     },
     "metadata": {},
     "output_type": "display_data"
    }
   ],
   "source": [
    "import matplotlib.pyplot as plt\n",
    "\n",
    "top_left = sum(penalties[\"shot_place\"] == 12)\n",
    "bot_left = sum(penalties[\"shot_place\"] == 3)\n",
    "top_right = sum(penalties[\"shot_place\"] == 13)\n",
    "bot_right = sum(penalties[\"shot_place\"] == 4)\n",
    "centre = sum(penalties[\"shot_place\"] == 5) + sum(penalties[\"shot_place\"] == 11)\n",
    "missed = sum(penalties[\"shot_place\"] == 1) + sum(penalties[\"shot_place\"] == 6) + sum(penalties[\"shot_place\"] == 7) + sum(penalties[\"shot_place\"] == 8) + sum(penalties[\"shot_place\"] == 9) + sum(penalties[\"shot_place\"] == 10)\n",
    "\n",
    "labels_pen = [\"Top Left\", \"Bottom Left\", \"Centre\", \"Top Right\", \"Bottom Right\", \"Missed\"]\n",
    "num_pen = [top_left, bot_left, centre, top_right, bot_right, missed]\n",
    "colors_pen = [\"red\", \"aqua\", \"royalblue\", \"yellow\", \"violet\", \"m\"]\n",
    "\n",
    "plt.figure(figsize=(10, 8))  # Bigger figure\n",
    "\n",
    "plt.pie(\n",
    "    num_pen,\n",
    "    labels=labels_pen,\n",
    "    colors=colors_pen,\n",
    "    autopct='%1.1f%%',\n",
    "    startangle=90,\n",
    "    explode=(0, 0, 0.1, 0, 0, 0.2),  # Emphasize 'Centre' and 'Missed'\n",
    "    shadow=True,\n",
    "    labeldistance=1.1,  # Move labels further out\n",
    "    wedgeprops={'edgecolor': 'black'}\n",
    ")\n",
    "\n",
    "plt.axis('equal')\n",
    "plt.title(\"Percentage of Each Placement of Penalties\", fontsize=18, fontweight=\"bold\")\n",
    "plt.tight_layout()\n",
    "plt.show()\n"
   ]
  },
  {
   "cell_type": "code",
   "execution_count": 55,
   "metadata": {
    "collapsed": false,
    "jupyter": {
     "outputs_hidden": false
    }
   },
   "outputs": [
    {
     "data": {
      "text/html": [
       "<div>\n",
       "<style scoped>\n",
       "    .dataframe tbody tr th:only-of-type {\n",
       "        vertical-align: middle;\n",
       "    }\n",
       "\n",
       "    .dataframe tbody tr th {\n",
       "        vertical-align: top;\n",
       "    }\n",
       "\n",
       "    .dataframe thead th {\n",
       "        text-align: right;\n",
       "    }\n",
       "</style>\n",
       "<table border=\"1\" class=\"dataframe\">\n",
       "  <thead>\n",
       "    <tr style=\"text-align: right;\">\n",
       "      <th></th>\n",
       "      <th>right foot</th>\n",
       "      <th>left foot</th>\n",
       "    </tr>\n",
       "  </thead>\n",
       "  <tbody>\n",
       "    <tr>\n",
       "      <th>Scored</th>\n",
       "      <td>1535</td>\n",
       "      <td>454</td>\n",
       "    </tr>\n",
       "  </tbody>\n",
       "</table>\n",
       "</div>"
      ],
      "text/plain": [
       "        right foot  left foot\n",
       "Scored        1535        454"
      ]
     },
     "execution_count": 55,
     "metadata": {},
     "output_type": "execute_result"
    }
   ],
   "source": [
    "# success rate of penalties\n",
    "scored_pen=penalties[penalties[\"is_goal\"]==1]\n",
    "pen_rightfoot=scored_pen[scored_pen[\"bodypart\"]==1].shape[0]\n",
    "pen_leftfoot=scored_pen[scored_pen[\"bodypart\"]==2].shape[0]\n",
    "\n",
    "penalty_combi=pd.DataFrame({\"right foot\":pen_rightfoot,\"left foot\":pen_leftfoot},index=[\"Scored\"])\n",
    "penalty_combi.plot(kind=\"bar\")\n",
    "plt.title(\"Penalties scored (Right/Left foot)\",fontsize=14,fontweight=\"bold\")\n",
    "penalty_combi"
   ]
  },
  {
   "cell_type": "code",
   "execution_count": 59,
   "metadata": {
    "collapsed": false,
    "jupyter": {
     "outputs_hidden": false
    }
   },
   "outputs": [],
   "source": [
    "def pen_stats(player):\n",
    "    player_pen=penalties[penalties[\"player\"]==player]\n",
    "    right_attempt=player_pen[player_pen[\"bodypart\"]==1]\n",
    "    right_attempt_scored=right_attempt[right_attempt[\"is_goal\"]==1].shape[0]\n",
    "    right_attempt_missed=right_attempt[right_attempt[\"is_goal\"]==0].shape[0]\n",
    "    left_attempt=player_pen[player_pen[\"bodypart\"]==2]\n",
    "    left_attempt_scored=left_attempt[left_attempt[\"is_goal\"]==1].shape[0]\n",
    "    left_attempt_missed=left_attempt[left_attempt[\"is_goal\"]==0].shape[0]\n",
    "    scored=pd.DataFrame({\"right foot\":right_attempt_scored,\"left foot\":left_attempt_scored},index=[\"Scored\"])\n",
    "    missed=pd.DataFrame({\"right foot\":right_attempt_missed,\"left foot\":left_attempt_missed},index=[\"Missed\"])\n",
    "    combi = pd.concat([scored, missed])\n",
    "\n",
    "    return combi"
   ]
  },
  {
   "cell_type": "code",
   "execution_count": 60,
   "metadata": {
    "collapsed": false,
    "jupyter": {
     "outputs_hidden": false
    }
   },
   "outputs": [
    {
     "data": {
      "text/html": [
       "<div>\n",
       "<style scoped>\n",
       "    .dataframe tbody tr th:only-of-type {\n",
       "        vertical-align: middle;\n",
       "    }\n",
       "\n",
       "    .dataframe tbody tr th {\n",
       "        vertical-align: top;\n",
       "    }\n",
       "\n",
       "    .dataframe thead th {\n",
       "        text-align: right;\n",
       "    }\n",
       "</style>\n",
       "<table border=\"1\" class=\"dataframe\">\n",
       "  <thead>\n",
       "    <tr style=\"text-align: right;\">\n",
       "      <th></th>\n",
       "      <th>right foot</th>\n",
       "      <th>left foot</th>\n",
       "    </tr>\n",
       "  </thead>\n",
       "  <tbody>\n",
       "    <tr>\n",
       "      <th>Scored</th>\n",
       "      <td>0</td>\n",
       "      <td>2</td>\n",
       "    </tr>\n",
       "    <tr>\n",
       "      <th>Missed</th>\n",
       "      <td>0</td>\n",
       "      <td>0</td>\n",
       "    </tr>\n",
       "  </tbody>\n",
       "</table>\n",
       "</div>"
      ],
      "text/plain": [
       "        right foot  left foot\n",
       "Scored           0          2\n",
       "Missed           0          0"
      ]
     },
     "execution_count": 60,
     "metadata": {},
     "output_type": "execute_result"
    }
   ],
   "source": [
    "pen_stats(\"james rodriguez\")"
   ]
  },
  {
   "cell_type": "code",
   "execution_count": 61,
   "metadata": {
    "collapsed": false,
    "jupyter": {
     "outputs_hidden": false
    }
   },
   "outputs": [
    {
     "data": {
      "text/html": [
       "<div>\n",
       "<style scoped>\n",
       "    .dataframe tbody tr th:only-of-type {\n",
       "        vertical-align: middle;\n",
       "    }\n",
       "\n",
       "    .dataframe tbody tr th {\n",
       "        vertical-align: top;\n",
       "    }\n",
       "\n",
       "    .dataframe thead th {\n",
       "        text-align: right;\n",
       "    }\n",
       "</style>\n",
       "<table border=\"1\" class=\"dataframe\">\n",
       "  <thead>\n",
       "    <tr style=\"text-align: right;\">\n",
       "      <th></th>\n",
       "      <th>right foot</th>\n",
       "      <th>left foot</th>\n",
       "    </tr>\n",
       "  </thead>\n",
       "  <tbody>\n",
       "    <tr>\n",
       "      <th>Scored</th>\n",
       "      <td>0</td>\n",
       "      <td>30</td>\n",
       "    </tr>\n",
       "    <tr>\n",
       "      <th>Missed</th>\n",
       "      <td>0</td>\n",
       "      <td>7</td>\n",
       "    </tr>\n",
       "  </tbody>\n",
       "</table>\n",
       "</div>"
      ],
      "text/plain": [
       "        right foot  left foot\n",
       "Scored           0         30\n",
       "Missed           0          7"
      ]
     },
     "execution_count": 61,
     "metadata": {},
     "output_type": "execute_result"
    }
   ],
   "source": [
    "pen_stats(\"lionel messi\")"
   ]
  },
  {
   "cell_type": "code",
   "execution_count": 62,
   "metadata": {
    "collapsed": false,
    "jupyter": {
     "outputs_hidden": false
    }
   },
   "outputs": [
    {
     "data": {
      "text/html": [
       "<div>\n",
       "<style scoped>\n",
       "    .dataframe tbody tr th:only-of-type {\n",
       "        vertical-align: middle;\n",
       "    }\n",
       "\n",
       "    .dataframe tbody tr th {\n",
       "        vertical-align: top;\n",
       "    }\n",
       "\n",
       "    .dataframe thead th {\n",
       "        text-align: right;\n",
       "    }\n",
       "</style>\n",
       "<table border=\"1\" class=\"dataframe\">\n",
       "  <thead>\n",
       "    <tr style=\"text-align: right;\">\n",
       "      <th></th>\n",
       "      <th>right foot</th>\n",
       "      <th>left foot</th>\n",
       "    </tr>\n",
       "  </thead>\n",
       "  <tbody>\n",
       "    <tr>\n",
       "      <th>Scored</th>\n",
       "      <td>43</td>\n",
       "      <td>0</td>\n",
       "    </tr>\n",
       "    <tr>\n",
       "      <th>Missed</th>\n",
       "      <td>8</td>\n",
       "      <td>0</td>\n",
       "    </tr>\n",
       "  </tbody>\n",
       "</table>\n",
       "</div>"
      ],
      "text/plain": [
       "        right foot  left foot\n",
       "Scored          43          0\n",
       "Missed           8          0"
      ]
     },
     "execution_count": 62,
     "metadata": {},
     "output_type": "execute_result"
    }
   ],
   "source": [
    "pen_stats(\"cristiano ronaldo\")"
   ]
  },
  {
   "cell_type": "code",
   "execution_count": 63,
   "metadata": {
    "collapsed": false,
    "jupyter": {
     "outputs_hidden": false
    }
   },
   "outputs": [
    {
     "data": {
      "text/html": [
       "<div>\n",
       "<style scoped>\n",
       "    .dataframe tbody tr th:only-of-type {\n",
       "        vertical-align: middle;\n",
       "    }\n",
       "\n",
       "    .dataframe tbody tr th {\n",
       "        vertical-align: top;\n",
       "    }\n",
       "\n",
       "    .dataframe thead th {\n",
       "        text-align: right;\n",
       "    }\n",
       "</style>\n",
       "<table border=\"1\" class=\"dataframe\">\n",
       "  <thead>\n",
       "    <tr style=\"text-align: right;\">\n",
       "      <th></th>\n",
       "      <th>right foot</th>\n",
       "      <th>left foot</th>\n",
       "    </tr>\n",
       "  </thead>\n",
       "  <tbody>\n",
       "    <tr>\n",
       "      <th>Scored</th>\n",
       "      <td>0</td>\n",
       "      <td>0</td>\n",
       "    </tr>\n",
       "    <tr>\n",
       "      <th>Missed</th>\n",
       "      <td>0</td>\n",
       "      <td>0</td>\n",
       "    </tr>\n",
       "  </tbody>\n",
       "</table>\n",
       "</div>"
      ],
      "text/plain": [
       "        right foot  left foot\n",
       "Scored           0          0\n",
       "Missed           0          0"
      ]
     },
     "execution_count": 63,
     "metadata": {},
     "output_type": "execute_result"
    }
   ],
   "source": [
    "pen_stats('mohamed sallah')"
   ]
  },
  {
   "cell_type": "code",
   "execution_count": 65,
   "metadata": {
    "collapsed": false,
    "jupyter": {
     "outputs_hidden": false
    }
   },
   "outputs": [
    {
     "name": "stdout",
     "output_type": "stream",
     "text": [
      "lionel messi\n",
      "\n",
      "        right foot  left foot\n",
      "Scored           0         30\n",
      "Missed           0          7\n",
      "cristiano ronaldo\n",
      "\n",
      "        right foot  left foot\n",
      "Scored          43          0\n",
      "Missed           8          0\n",
      "zlatan ibrahimovic\n",
      "\n",
      "        right foot  left foot\n",
      "Scored          35          0\n",
      "Missed           3          0\n",
      "robert lewandowski\n",
      "\n",
      "        right foot  left foot\n",
      "Scored           9          0\n",
      "Missed           1          0\n",
      "edinson cavani\n",
      "\n",
      "        right foot  left foot\n",
      "Scored          20          0\n",
      "Missed           7          0\n",
      "gonzalo higuain\n",
      "\n",
      "        right foot  left foot\n",
      "Scored          11          0\n",
      "Missed           4          0\n",
      "pierreemerick aubameyang\n",
      "\n",
      "        right foot  left foot\n",
      "Scored           7          0\n",
      "Missed           3          0\n",
      "luis suarez\n",
      "\n",
      "        right foot  left foot\n",
      "Scored           3          0\n",
      "Missed           2          0\n",
      "diego costa\n",
      "\n",
      "        right foot  left foot\n",
      "Scored           7          0\n",
      "Missed           3          0\n",
      "alexandre lacazette\n",
      "\n",
      "        right foot  left foot\n",
      "Scored          18          0\n",
      "Missed           3          0\n"
     ]
    }
   ],
   "source": [
    "for player in list(players):\n",
    "     print(player+ '\\n')\n",
    "     print(pen_stats(player))"
   ]
  },
  {
   "cell_type": "code",
   "execution_count": 66,
   "metadata": {
    "collapsed": false,
    "jupyter": {
     "outputs_hidden": false
    }
   },
   "outputs": [
    {
     "data": {
      "text/plain": [
       "array(['sejad salihovic', 'mohammed abdellaoue', 'jussie', 'julien feret',\n",
       "       'gregory thil', 'klaasjan huntelaar', 'konstantin rausch',\n",
       "       'mladen petric', 'filip daems', 'paulo machado', 'sascha molders',\n",
       "       'aaron hunt', 'benjamin nivet', 'younes belhanda',\n",
       "       'youssouf hadji', 'nene', 'de las cuevas', 'mario gomez',\n",
       "       'ryad boudebouz', 'mbaye niang', 'moussa sow', 'cristiano ronaldo',\n",
       "       'alvaro negredo', 'giuseppe rossi', 'ryan babel', 'diego milito',\n",
       "       'sebastian giovinco', 'javi fuego', 'timmy simons', 'eden hazard',\n",
       "       'franck tabanou', 'yannick sagbo', 'luis garcia',\n",
       "       'antonio di natale', 'salva sevilla', 'david lopez', 'andre luiz',\n",
       "       'falcao', 'maxi lopez', 'cheick diabate', 'cheick diabataa©',\n",
       "       'marco rigoni', 'hernanes', 'luciano fabian monzon',\n",
       "       'kevin gameiro', 'raul tamudo', 'victor hugo montano',\n",
       "       'christophe mandanne', 'german denis', 'benat', 'anthony modeste',\n",
       "       'gregory pujol', 'ever banega', 'sergio pellissier',\n",
       "       'ruben suarez', 'gibril sankoh', 'tomer hemed', 'cedric mongongu',\n",
       "       'marek hamsik', 'abel hernandez', 'adrian mutu', 'rodrigo palacio',\n",
       "       'olivier giroud', 'pavel pogrebnyak', 'christian tiffert',\n",
       "       'michel bastos', 'mario mandzukic', 'mathieu debuchy',\n",
       "       'francesco lodi', 'janingwer callsenbracker', 'papiss demba cisse',\n",
       "       'jonathan pitroipa', 'javad nekounam', 'zdravko kuzmanovic',\n",
       "       'lionel messi', 'andre ayew', 'koke', 'massimo oddo',\n",
       "       'antonio candreva', 'mauricio pinilla', 'levan kobiashvili',\n",
       "       'marcos senna', 'dariusz dudka', 'bruno grougi', 'apono',\n",
       "       'lukas podolski', 'christian stuani', 'marco di vaio',\n",
       "       'andreas ivanschitz', 'claudio pizarro', 'loic remy',\n",
       "       'diego castro', 'zlatan ibrahimovic', 'piti',\n",
       "       'florent sinamapongolle', 'ilan', 'gaetano dagostino',\n",
       "       'eric bautheac', 'antoine griezmann', 'daniele conti',\n",
       "       'arnold mvuemba', 'pierrealain frau', 'tino costa',\n",
       "       'giampaolo pazzini', 'gael danic', 'arjen robben', 'fabian monzon',\n",
       "       'arturo vidal', 'lisandro', 'moussa sissoko', 'tommer hemed',\n",
       "       'david di michele', 'francesco totti', 'leonardo ponzio',\n",
       "       'sergio floccari', 'emanuele calaio', 'stevan jovetic',\n",
       "       'joaquin larrivey', 'edinson cavani', 'jakub blaszczykowski',\n",
       "       'brice jovial', 'eugen polanski', 'eduardo ribeiro',\n",
       "       'simon rolfes', 'fabrizio miccoli', 'cristian ledesma', 'miku',\n",
       "       'barkero', 'patrick helmes', 'claudio terzi', 'daniel caligiuri',\n",
       "       'ezequiel lavezzi', 'jan schlaudraff', 'roberto soldado',\n",
       "       'guillherme siqueira', 'marco ruben', 'iker muniain',\n",
       "       'benoit tremoulinas', 'nando rafael', 'alberto gilardino',\n",
       "       'aranda', 'mamadou samassa', 'marcelo larrondo',\n",
       "       'ludovic obraniak', 'santiago cazorla', 'imanol agirretxe',\n",
       "       'jonas', 'fernando llorente', 'max gradel', 'stefano okaka',\n",
       "       'cyril thereau', 'andrea pirlo', 'adem ljajic',\n",
       "       'nicolas mauricebelay', 'souleymane camara', 'pape diop',\n",
       "       'riccardo montolivo', 'johan cavalli', 'christian kinkela',\n",
       "       'renaud cohade', 'gaston sangoy', 'piotr trochowski',\n",
       "       'diego costa', 'tulio de melo', 'alexandre lacazette',\n",
       "       'yoan gouffran', 'alejandro gomez', 'farinos', 'andrea barzagli',\n",
       "       'raul garcia', 'jires kemboekoko', 'etienne capoue',\n",
       "       'henri saivet', 'riki', 'victor perez', 'kamel ghilas',\n",
       "       'vedad ibisevic', 'cristobal jorquera', 'pizzi', 'bafetimbi gomis',\n",
       "       'alessandro diamanti', 'alexander meier', 'rolando bianchi',\n",
       "       'alain traoraa©', 'ivan rakitic', 'emanuele calaiaa²',\n",
       "       'adam szalai', 'jonathan ayite', 'ze eduardo love',\n",
       "       'mirko vucinic', 'carlos vela', 'sebastien corchia',\n",
       "       'eden ben basat', 'jaime valdes', 'diego', 'andre schurrle',\n",
       "       'nicola pozzi', 'jefferson farfan', 'marco borriello',\n",
       "       'rafael van der vaart', 'joaquin', 'pablo osvaldo', 'david timor',\n",
       "       'iago aspas', 'joan verdu', 'marcos', 'youssef elarabi',\n",
       "       'dario cvitanich', 'amauri', 'eder', 'jens langeneke',\n",
       "       'mataa\\xadas fernaa¡ndez', 'luciano', 'roberto firmino',\n",
       "       'aritz aduriz', 'jerome rothen', 'lisandro lopez',\n",
       "       'steed malbranque', 'paul aloo efoulou', 'david alaba',\n",
       "       'mathieu valbuena', 'bernd nehrig', 'thorben marx', 'victor',\n",
       "       'xabi alonso', 'pato', 'alberto paloschi', 'stefan kiessling',\n",
       "       'robert lewandowski', 'manolo gabbiadini', 'ante vukusic',\n",
       "       'robinho', 'gonzalo rodriguez', 'milan badelj', 'thomas muller',\n",
       "       'ishak belfodil', 'szabolcs huszti', 'jeremie aliadiere', 'eliseu',\n",
       "       'david pizarro', 'alberto aquilani', 'enzo maresca',\n",
       "       'alejandro dominguez', 'javier marquez', 'mathieu dossevi',\n",
       "       'gonzalo bergessio', 'alberto bueno', 'xabi prieto',\n",
       "       'alessandro rosina', 'ruben castro', 'dani schahin',\n",
       "       'gaetan courtet', 'pierreemerick aubameyang', 'vladimir weiss',\n",
       "       'stefano mauri', 'mario balotelli', 'isco', 'salomon kalou',\n",
       "       'clement grenier', 'michel', 'valentin eysseric', 'mario gotze',\n",
       "       'ahmed kantari', 'marco sau', 'jorge molina', 'benjamin moukandjo',\n",
       "       'jaroslav plasil', 'saber khelifa', 'florian thauvin', 'jonathas',\n",
       "       'kaka', 'helder postiga', 'grzegorz krychowiak', 'lucas digne',\n",
       "       'raffael', 'david villa', 'fabien camus', 'andy delort',\n",
       "       'sidney sam', 'ricardo alvarez', 'branimir hrgota',\n",
       "       'julien faubert', 'nikola djurdjic', 'alessio cerci', 'edgar prib',\n",
       "       'arnaud le lan', 'maor melikson', 'mustapha yatabare',\n",
       "       'nelson oliveira', 'giovani dos santos', 'edu albacar', 'verza',\n",
       "       'innocent emeghara', 'luis muriel', 'charles', 'kevin strootman',\n",
       "       'max kruse', 'nabil el zhar', 'paul verhaegh',\n",
       "       'roberto trashorras', 'faouzi ghoulam', 'jorginho frello',\n",
       "       'marco reus', 'remy cabella', 'wahbi khazri', 'steven gerrard',\n",
       "       'sergio aguero', 'jonathan viera', 'kevinprince boateng',\n",
       "       'domenico berardi', 'miralem pjanic', 'martin braithwaite',\n",
       "       'victor ibarbo', 'wilfried bony', 'carlos tevez', 'mikel arteta',\n",
       "       'christian benteke', 'james morrison', 'gonzalo higuain',\n",
       "       'patrick ebert', 'eric maxim choupomoting', 'gary hooper',\n",
       "       'rickie lambert', 'adrian ramos', 'charlie adam',\n",
       "       'andrepierre gignac', 'andres iniesta', 'francesc fabregas',\n",
       "       'thibault giresse', 'frank lampard', 'yann jouffre', 'bruno',\n",
       "       'sergio garcia', 'ricardo rodriguez', 'wissam ben yedder',\n",
       "       'wayne rooney', 'yacine brahimi', 'filip djordjevic',\n",
       "       'vincent aboubakar', 'yaya toure', 'dimitar berbatov', 'neymar',\n",
       "       'joselu', 'goran pandev', 'eloge enza yamissi', 'markel susaeta',\n",
       "       'jeremy perbet', 'mevlut erdinc', 'hatem ben arfa',\n",
       "       'torsten oehrl', 'cedric bakambu', 'romain alessandrini',\n",
       "       'ki sungyueng', 'jason puncheon', 'leighton baines',\n",
       "       'saido berahino', 'xavi', 'nery castillo', 'foued kadir',\n",
       "       'ibai gomez', 'adam johnson', 'rubaa©n castro', 'david barral',\n",
       "       'ciro immobile', 'daniel sturridge', 'fabio borini', 'duda',\n",
       "       'josip drmic', 'paulinho', 'marouane chamakh', 'gianni bruno',\n",
       "       'coro', 'luca toni', 'robin van persie', 'majeed waris',\n",
       "       'domi kumbela', 'ermin bicakcic', 'hiroshi kiyotake',\n",
       "       'jonathan walters', 'dries mertens', 'glenn murray',\n",
       "       'christian gentner', 'nicolas de preville', 'james rodriguez',\n",
       "       'hakan calhanoglu', 'fran rico', 'martin harnik',\n",
       "       'antonio cassano', 'lazaros christodoulopoulos', 'itay shechter',\n",
       "       'nikica jelavic', 'carlos bacca', 'mark noble', 'nolito',\n",
       "       'cyril thaa©raa©au', 'admir mehmedi', 'jonathan zebina',\n",
       "       'damian suarez', 'nourredine amrabat', 'mikel san jose',\n",
       "       'agim ibraimi', 'emmanuel adebayor', 'alessandro matri',\n",
       "       'steve sidwell', 'mile jedinak', 'marko arnautovic',\n",
       "       'peter whittingham', 'diego rolan', 'aboubacar demba camara',\n",
       "       'junior tallo', 'aleix vidal', 'javi guerra', 'casado',\n",
       "       'simone zaza', 'lucas biglia', 'ciprian marica', 'divock origi',\n",
       "       'yeni ngbakoto', 'charlie austin', 'emiliano sala',\n",
       "       'kaa©vin lejeune', 'luis alberto', 'jacheol koo', 'serge gakpe',\n",
       "       'daniel parejo', 'ola toivonen', 'yoann touzghar',\n",
       "       'adamo coulibaly', 'isaac cuenca', 'jeremy menez',\n",
       "       'eric choupomoting', 'scott arfield', 'ronny', 'andrea cossu',\n",
       "       'adrien regattin', 'haris medunjanin', 'franco di santo',\n",
       "       'francesco tavano', 'david nugent', 'leonardo ulloa',\n",
       "       'omar el kaddouri', 'rodrigo', 'vladimir darida',\n",
       "       'chaker alhadhur', 'jordan veretout', 'vitorino antunes',\n",
       "       'daniel wass', 'jonas hofmann', 'emmanuel cascione',\n",
       "       'joao moutinho', 'nordin amrabat', 'danilo avelar',\n",
       "       'alejandro rodriguez', 'sebastian rudy', 'jordan ayew',\n",
       "       'mathieu duhamel', 'lucas moura', 'mauro icardi',\n",
       "       'florent malouda', 'angelo palombo', 'paulo dybala',\n",
       "       'franco vazquez', 'modibo maiga', 'juan sanchez mino',\n",
       "       'danny ings', 'matthias lehmann', 'pierrick valdivia',\n",
       "       'claudio beauvue', 'graham dorrans', 'ivan cavaleiro',\n",
       "       'nabil fekir', 'jordi gomez', 'dusan tadic', 'marko basa',\n",
       "       'ivan perisic', 'alban meha', 'bojan', 'alexis sanchez',\n",
       "       'andros townsend', 'iago falque', 'dwight gayle',\n",
       "       'fabian orellana', 'joao pedro', 'andrea belotti', 'lucas barrios',\n",
       "       'gaetan charbonnier', 'bengalifode koita', 'faycal fajr',\n",
       "       'ruben garcia', 'ioannis fetfatzidis', 'franco brienza',\n",
       "       'kevin mirallas', 'nabil ghilas', 'gareth bale',\n",
       "       'benjamin jeannot', 'riccardo saponara', 'celso borges',\n",
       "       'johannes geis', 'harry kane', 'massimo maccarone',\n",
       "       'fabio quagliarella', 'jens hegeler', 'alvaro vazquez',\n",
       "       'diego perotti', 'xherdan shaqiri', 'florian klein',\n",
       "       'alharbi el jadeyaoui', 'victor moses', 'maxime gonalons',\n",
       "       'khouma babacar', 'djamel bakar', 'michy batshuayi', 'lomban',\n",
       "       'lucas perez', 'tobias werner', 'layvin kurzawa', 'romelu lukaku',\n",
       "       'mikel arruabarrena', 'jordan henderson', 'anthony mounier',\n",
       "       'jonjo shelvey', 'julian schuster', 'james wardprowse',\n",
       "       'ikechukwu uche', 'sofiane boufal', 'alessandro florenzi',\n",
       "       'bouna sarr', 'ross barkley', 'lars stindl', 'matthew taylor',\n",
       "       'nils petersen', 'antonio nocerino', 'josip ilicic',\n",
       "       'anthony martial', 'paulgeorges ntep', 'juan mata', 'santi mina',\n",
       "       'claudio marchisio', 'lorenzo insigne', 'simone pepe', 'aaron',\n",
       "       'nolan roux', 'mohamed wael larbi', 'riyad mahrez',\n",
       "       'daniel didavi', 'callum wilson', 'andrea lazzari', 'sloan privat',\n",
       "       'sylvain armand', 'scott sinclair', 'jamie vardy',\n",
       "       'haris seferovic', 'aron johannsson', 'felix kroos', 'saul berjon',\n",
       "       'ander herrera', 'nicola sansone', 'maximiliano moralez',\n",
       "       'fabinho', 'gerard moreno', 'moritz hartmann', 'thomas mangani',\n",
       "       'jonas martin', 'bas dost', 'paul pogba', 'sandro wagner',\n",
       "       'david ngog', 'daniel ginczek', 'ryder matos', 'gylfi sigurdsson',\n",
       "       'kevin volland', 'yohan cabaye', 'jeanchristophe bahebeck',\n",
       "       'felipe caicedo', 'abdoul camara', 'abdel barrada',\n",
       "       'pedro henrique', 'andre hahn', 'luca cigarini', 'mathew leckie',\n",
       "       'burgui', 'yevhen konoplyanka', 'paco alcacer', 'aduriz',\n",
       "       'aleksandar kolarov', 'granit xhaka', 'alexander baumjohann',\n",
       "       'pierremichel lasogga', 'troy deeney', 'luis suarez', 'edin dzeko',\n",
       "       'jimmy briand', 'mattia destro', 'jony', 'jacques zoua',\n",
       "       'giovanni sio', 'dani garcia', 'james milner', 'daniel ciofani',\n",
       "       'anthony ujah', 'charlie daniels', 'oscar', 'connor wickham',\n",
       "       'lacina traore', 'pedro leaa³n', 'borja baston',\n",
       "       'aleksandar mitrovic', 'diego falcinelli', 'fallou diagne',\n",
       "       'jerry mbakogu', 'wes hoolahan', 'matteo mancosu',\n",
       "       'javier hernandez', 'antonio sanabria', 'federico dionisi',\n",
       "       'floyd ayite', 'filip kostic', 'valter birsa', 'ousmane dembele',\n",
       "       'alexander soderlund', 'guidetti', 'lukas hinterseer',\n",
       "       'billy ketkeophomphone', 'alvaro morata', 'yunus malli',\n",
       "       'simone verdi', 'alfred finnbogason', 'jonathan de guzman',\n",
       "       'andrej kramaric', 'cesc fabregas', 'sadio mane', 'alexandre pato',\n",
       "       'bruno fernandes', 'duje cop', 'luiz adriano', 'andy carroll',\n",
       "       'mohamed larbi', 'nikola kalinic', 'jermain defoe',\n",
       "       'craig gardner', 'gianpaolo bellini', 'ryan bertrand',\n",
       "       'georginio wijnaldum', 'theo walcott', 'antony robic',\n",
       "       'enzo crivelli', 'isma lopez', 'frederic sammaritano',\n",
       "       'pedro leon', 'ivan santini', 'roberto torres', 'pablo sarabia',\n",
       "       'franck kessie', 'ezequiel ponce', 'robert snodgrass',\n",
       "       'ledian memushaj', 'fernando torres', 'emil forsberg',\n",
       "       'nacer chadli', 'manuel lanzini', 'momo', 'chicharito',\n",
       "       'robert beric', 'romain hamouma', 'matteo politano',\n",
       "       'alassane plea', 'raffaele palladino', 'charles aranguiz',\n",
       "       'federico bernardeschi', 'willian jose', 'isaac thelin',\n",
       "       'kamil grosicki', 'yann bodiger', 'alexander szymanowski',\n",
       "       'antoniomirko colak', 'erik lamela', 'gabi', 'kevin de bruyne',\n",
       "       'gianluca caprari', 'junior stanislas', 'jerome gondorf',\n",
       "       'sam vokes', 'duvan zapata', 'vincent janssen', 'vincenzo grifo',\n",
       "       'fc koln 0, hamburger sv 0. anthony modeste', 'marcello trotta',\n",
       "       'christian santos', 'serge gnabry', 'jese', 'lois diony',\n",
       "       'michael santos', 'islam slimani', 'famara diedhiou',\n",
       "       'diego farias', 'timo werner', 'lorenzo pellegrini',\n",
       "       'federico ricci', 'guerrero', 'vicente iborra', 'julio tavares',\n",
       "       'ladislav krejci', 'johan djourou', 'florian niederlechner',\n",
       "       'lucas lima', 'francesco acerbi', 'cristiano biraghi',\n",
       "       'ashley barnes', 'adrian gonzalez', 'levan mchedlidze', 'malcom',\n",
       "       'andre gray', 'lucas ocampos'], dtype=object)"
      ]
     },
     "execution_count": 66,
     "metadata": {},
     "output_type": "execute_result"
    }
   ],
   "source": [
    "penalties[\"player\"].unique()"
   ]
  },
  {
   "cell_type": "code",
   "execution_count": 76,
   "metadata": {},
   "outputs": [],
   "source": [
    "def pen_full_stats(player):\n",
    "    player_pen = penalties[penalties[\"player\"] == player]\n",
    "    scored_pen = player_pen[player_pen[\"is_goal\"] == 1]\n",
    "    missed_pen = player_pen[player_pen[\"is_goal\"] == 0]\n",
    "    \n",
    "    top_left_rightfoot = scored_pen[(scored_pen[\"shot_place\"]==12) & (scored_pen[\"bodypart\"]==1)].shape[0]\n",
    "    top_left_leftfoot = scored_pen[(scored_pen[\"shot_place\"]==12) & (scored_pen[\"bodypart\"]==2)].shape[0]\n",
    "    bot_left_rightfoot = scored_pen[(scored_pen[\"shot_place\"]==3) & (scored_pen[\"bodypart\"]==1)].shape[0]\n",
    "    bot_left_leftfoot = scored_pen[(scored_pen[\"shot_place\"]==3) & (scored_pen[\"bodypart\"]==2)].shape[0]\n",
    "    top_right_rightfoot = scored_pen[(scored_pen[\"shot_place\"]==13) & (scored_pen[\"bodypart\"]==1)].shape[0]\n",
    "    top_right_leftfoot = scored_pen[(scored_pen[\"shot_place\"]==13) & (scored_pen[\"bodypart\"]==2)].shape[0]\n",
    "    bot_right_rightfoot = scored_pen[(scored_pen[\"shot_place\"]==4) & (scored_pen[\"bodypart\"]==1)].shape[0]\n",
    "    bot_right_leftfoot = scored_pen[(scored_pen[\"shot_place\"]==4) & (scored_pen[\"bodypart\"]==2)].shape[0]\n",
    "    centre_rightfoot = scored_pen[(scored_pen[\"shot_place\"].isin([5,11])) & (scored_pen[\"bodypart\"]==1)].shape[0]\n",
    "    centre_leftfoot = scored_pen[(scored_pen[\"shot_place\"].isin([5,11])) & (scored_pen[\"bodypart\"]==2)].shape[0]\n",
    "    scored_without_recorded_loc_rightfoot = scored_pen[scored_pen[\"shot_place\"].isnull() & (scored_pen[\"bodypart\"]==1)].shape[0]\n",
    "    scored_without_recorded_loc_leftfoot = scored_pen[scored_pen[\"shot_place\"].isnull() & (scored_pen[\"bodypart\"]==2)].shape[0]\n",
    "    missed_rightfoot = missed_pen[missed_pen[\"bodypart\"]==1].shape[0]\n",
    "    missed_leftfoot = missed_pen[missed_pen[\"bodypart\"]==2].shape[0]\n",
    "    \n",
    "    right_foot = pd.DataFrame({\n",
    "        \"Top Left Corner\": top_left_rightfoot,\n",
    "        \"Bottom Left Corner\": bot_left_rightfoot,\n",
    "        \"Top Right Corner\": top_right_rightfoot,\n",
    "        \"Bottom Right Corner\": bot_right_rightfoot,\n",
    "        \"Centre\": centre_rightfoot,\n",
    "        \"Unrecorded placement\": scored_without_recorded_loc_rightfoot,\n",
    "        \"Missed\": missed_rightfoot\n",
    "    }, index=[\"Right Foot attempt\"])\n",
    "    \n",
    "    left_foot = pd.DataFrame({\n",
    "        \"Top Left Corner\": top_left_leftfoot,\n",
    "        \"Bottom Left Corner\": bot_left_leftfoot,\n",
    "        \"Top Right Corner\": top_right_leftfoot,\n",
    "        \"Bottom Right Corner\": bot_right_leftfoot,\n",
    "        \"Centre\": centre_leftfoot,\n",
    "        \"Unrecorded placement\": scored_without_recorded_loc_leftfoot,\n",
    "        \"Missed\": missed_leftfoot\n",
    "    }, index=[\"Left Foot attempt\"])\n",
    "    \n",
    "    # Concatenate both DataFrames\n",
    "    fullstats = pd.concat([right_foot, left_foot])\n",
    "    \n",
    "    # Reorder columns\n",
    "    fullstats = fullstats[[\"Top Right Corner\",\"Bottom Right Corner\",\"Top Left Corner\",\"Bottom Left Corner\",\"Centre\",\"Unrecorded placement\",\"Missed\"]]\n",
    "    \n",
    "    return fullstats\n"
   ]
  },
  {
   "cell_type": "code",
   "execution_count": 77,
   "metadata": {},
   "outputs": [],
   "source": [
    "import warnings\n",
    "warnings.filterwarnings('ignore')"
   ]
  },
  {
   "cell_type": "code",
   "execution_count": 78,
   "metadata": {
    "collapsed": false,
    "jupyter": {
     "outputs_hidden": false
    }
   },
   "outputs": [
    {
     "data": {
      "text/html": [
       "<div>\n",
       "<style scoped>\n",
       "    .dataframe tbody tr th:only-of-type {\n",
       "        vertical-align: middle;\n",
       "    }\n",
       "\n",
       "    .dataframe tbody tr th {\n",
       "        vertical-align: top;\n",
       "    }\n",
       "\n",
       "    .dataframe thead th {\n",
       "        text-align: right;\n",
       "    }\n",
       "</style>\n",
       "<table border=\"1\" class=\"dataframe\">\n",
       "  <thead>\n",
       "    <tr style=\"text-align: right;\">\n",
       "      <th></th>\n",
       "      <th>Top Right Corner</th>\n",
       "      <th>Bottom Right Corner</th>\n",
       "      <th>Top Left Corner</th>\n",
       "      <th>Bottom Left Corner</th>\n",
       "      <th>Centre</th>\n",
       "      <th>Unrecorded placement</th>\n",
       "      <th>Missed</th>\n",
       "    </tr>\n",
       "  </thead>\n",
       "  <tbody>\n",
       "    <tr>\n",
       "      <th>Right Foot attempt</th>\n",
       "      <td>0</td>\n",
       "      <td>0</td>\n",
       "      <td>0</td>\n",
       "      <td>0</td>\n",
       "      <td>0</td>\n",
       "      <td>0</td>\n",
       "      <td>0</td>\n",
       "    </tr>\n",
       "    <tr>\n",
       "      <th>Left Foot attempt</th>\n",
       "      <td>7</td>\n",
       "      <td>8</td>\n",
       "      <td>3</td>\n",
       "      <td>6</td>\n",
       "      <td>5</td>\n",
       "      <td>1</td>\n",
       "      <td>7</td>\n",
       "    </tr>\n",
       "  </tbody>\n",
       "</table>\n",
       "</div>"
      ],
      "text/plain": [
       "                    Top Right Corner  Bottom Right Corner  Top Left Corner  \\\n",
       "Right Foot attempt                 0                    0                0   \n",
       "Left Foot attempt                  7                    8                3   \n",
       "\n",
       "                    Bottom Left Corner  Centre  Unrecorded placement  Missed  \n",
       "Right Foot attempt                   0       0                     0       0  \n",
       "Left Foot attempt                    6       5                     1       7  "
      ]
     },
     "execution_count": 78,
     "metadata": {},
     "output_type": "execute_result"
    }
   ],
   "source": [
    "pen_full_stats(\"lionel messi\")"
   ]
  },
  {
   "cell_type": "code",
   "execution_count": 79,
   "metadata": {
    "collapsed": false,
    "jupyter": {
     "outputs_hidden": false
    }
   },
   "outputs": [
    {
     "data": {
      "text/html": [
       "<div>\n",
       "<style scoped>\n",
       "    .dataframe tbody tr th:only-of-type {\n",
       "        vertical-align: middle;\n",
       "    }\n",
       "\n",
       "    .dataframe tbody tr th {\n",
       "        vertical-align: top;\n",
       "    }\n",
       "\n",
       "    .dataframe thead th {\n",
       "        text-align: right;\n",
       "    }\n",
       "</style>\n",
       "<table border=\"1\" class=\"dataframe\">\n",
       "  <thead>\n",
       "    <tr style=\"text-align: right;\">\n",
       "      <th></th>\n",
       "      <th>Top Right Corner</th>\n",
       "      <th>Bottom Right Corner</th>\n",
       "      <th>Top Left Corner</th>\n",
       "      <th>Bottom Left Corner</th>\n",
       "      <th>Centre</th>\n",
       "      <th>Unrecorded placement</th>\n",
       "      <th>Missed</th>\n",
       "    </tr>\n",
       "  </thead>\n",
       "  <tbody>\n",
       "    <tr>\n",
       "      <th>Right Foot attempt</th>\n",
       "      <td>3</td>\n",
       "      <td>14</td>\n",
       "      <td>2</td>\n",
       "      <td>19</td>\n",
       "      <td>3</td>\n",
       "      <td>2</td>\n",
       "      <td>8</td>\n",
       "    </tr>\n",
       "    <tr>\n",
       "      <th>Left Foot attempt</th>\n",
       "      <td>0</td>\n",
       "      <td>0</td>\n",
       "      <td>0</td>\n",
       "      <td>0</td>\n",
       "      <td>0</td>\n",
       "      <td>0</td>\n",
       "      <td>0</td>\n",
       "    </tr>\n",
       "  </tbody>\n",
       "</table>\n",
       "</div>"
      ],
      "text/plain": [
       "                    Top Right Corner  Bottom Right Corner  Top Left Corner  \\\n",
       "Right Foot attempt                 3                   14                2   \n",
       "Left Foot attempt                  0                    0                0   \n",
       "\n",
       "                    Bottom Left Corner  Centre  Unrecorded placement  Missed  \n",
       "Right Foot attempt                  19       3                     2       8  \n",
       "Left Foot attempt                    0       0                     0       0  "
      ]
     },
     "execution_count": 79,
     "metadata": {},
     "output_type": "execute_result"
    }
   ],
   "source": [
    "pen_full_stats(\"cristiano ronaldo\")"
   ]
  },
  {
   "cell_type": "code",
   "execution_count": 82,
   "metadata": {},
   "outputs": [],
   "source": [
    "def stats(player):\n",
    "    player_pen=df_events[df_events[\"player\"]==player]\n",
    "    right_attempt=player_pen[player_pen[\"bodypart\"]==1]\n",
    "    right_attempt_scored=right_attempt[right_attempt[\"is_goal\"]==1].shape[0]\n",
    "    right_attempt_missed=right_attempt[right_attempt[\"is_goal\"]==0].shape[0]\n",
    "    left_attempt=player_pen[player_pen[\"bodypart\"]==2]\n",
    "    left_attempt_scored=left_attempt[left_attempt[\"is_goal\"]==1].shape[0]\n",
    "    left_attempt_missed=left_attempt[left_attempt[\"is_goal\"]==0].shape[0]\n",
    "    head_attempt=player_pen[player_pen[\"bodypart\"]==3]\n",
    "    head_attempt_scored=head_attempt[head_attempt[\"is_goal\"]==1].shape[0]\n",
    "    head_attempt_missed=head_attempt[head_attempt[\"is_goal\"]==0].shape[0]\n",
    "    scored=pd.DataFrame({\"right foot\":right_attempt_scored,\"left foot\":left_attempt_scored, \"head\": head_attempt_scored},index=[\"Scored\"])\n",
    "    missed=pd.DataFrame({\"right foot\":right_attempt_missed,\"left foot\":left_attempt_missed, \"head\": head_attempt_missed},index=[\"Missed\"])\n",
    "    combi = pd.concat([ missed])\n",
    "    return combi"
   ]
  },
  {
   "cell_type": "code",
   "execution_count": 83,
   "metadata": {
    "collapsed": false,
    "jupyter": {
     "outputs_hidden": false
    }
   },
   "outputs": [
    {
     "data": {
      "text/html": [
       "<div>\n",
       "<style scoped>\n",
       "    .dataframe tbody tr th:only-of-type {\n",
       "        vertical-align: middle;\n",
       "    }\n",
       "\n",
       "    .dataframe tbody tr th {\n",
       "        vertical-align: top;\n",
       "    }\n",
       "\n",
       "    .dataframe thead th {\n",
       "        text-align: right;\n",
       "    }\n",
       "</style>\n",
       "<table border=\"1\" class=\"dataframe\">\n",
       "  <thead>\n",
       "    <tr style=\"text-align: right;\">\n",
       "      <th></th>\n",
       "      <th>right foot</th>\n",
       "      <th>left foot</th>\n",
       "      <th>head</th>\n",
       "    </tr>\n",
       "  </thead>\n",
       "  <tbody>\n",
       "    <tr>\n",
       "      <th>Missed</th>\n",
       "      <td>79</td>\n",
       "      <td>585</td>\n",
       "      <td>45</td>\n",
       "    </tr>\n",
       "  </tbody>\n",
       "</table>\n",
       "</div>"
      ],
      "text/plain": [
       "        right foot  left foot  head\n",
       "Missed          79        585    45"
      ]
     },
     "execution_count": 83,
     "metadata": {},
     "output_type": "execute_result"
    }
   ],
   "source": [
    "stats('lionel messi')"
   ]
  },
  {
   "cell_type": "code",
   "execution_count": 84,
   "metadata": {
    "collapsed": false,
    "jupyter": {
     "outputs_hidden": false
    }
   },
   "outputs": [
    {
     "data": {
      "text/html": [
       "<div>\n",
       "<style scoped>\n",
       "    .dataframe tbody tr th:only-of-type {\n",
       "        vertical-align: middle;\n",
       "    }\n",
       "\n",
       "    .dataframe tbody tr th {\n",
       "        vertical-align: top;\n",
       "    }\n",
       "\n",
       "    .dataframe thead th {\n",
       "        text-align: right;\n",
       "    }\n",
       "</style>\n",
       "<table border=\"1\" class=\"dataframe\">\n",
       "  <thead>\n",
       "    <tr style=\"text-align: right;\">\n",
       "      <th></th>\n",
       "      <th>right foot</th>\n",
       "      <th>left foot</th>\n",
       "      <th>head</th>\n",
       "    </tr>\n",
       "  </thead>\n",
       "  <tbody>\n",
       "    <tr>\n",
       "      <th>Missed</th>\n",
       "      <td>664</td>\n",
       "      <td>205</td>\n",
       "      <td>123</td>\n",
       "    </tr>\n",
       "  </tbody>\n",
       "</table>\n",
       "</div>"
      ],
      "text/plain": [
       "        right foot  left foot  head\n",
       "Missed         664        205   123"
      ]
     },
     "execution_count": 84,
     "metadata": {},
     "output_type": "execute_result"
    }
   ],
   "source": [
    "stats(\"cristiano ronaldo\")"
   ]
  },
  {
   "cell_type": "code",
   "execution_count": 87,
   "metadata": {},
   "outputs": [],
   "source": [
    "def full_stats(player):\n",
    "    player_pen = df_events[df_events[\"player\"] == player]\n",
    "    scored_pen = player_pen[player_pen[\"is_goal\"] == 1]\n",
    "    missed_pen = player_pen[player_pen[\"is_goal\"] == 0]\n",
    "    \n",
    "    def count_shots(shot_place, bodypart):\n",
    "        if shot_place is None:\n",
    "            return scored_pen[scored_pen[\"shot_place\"].isnull() & (scored_pen[\"bodypart\"] == bodypart)].shape[0]\n",
    "        elif isinstance(shot_place, list):\n",
    "            return scored_pen[scored_pen[\"shot_place\"].isin(shot_place) & (scored_pen[\"bodypart\"] == bodypart)].shape[0]\n",
    "        else:\n",
    "            return scored_pen[(scored_pen[\"shot_place\"] == shot_place) & (scored_pen[\"bodypart\"] == bodypart)].shape[0]\n",
    "    \n",
    "    shots = {\n",
    "        \"Right Foot attempt\": [],\n",
    "        \"Left Foot attempt\": [],\n",
    "        \"Head attempt\": []\n",
    "    }\n",
    "    \n",
    "    bodyparts = {\"Right Foot attempt\": 1, \"Left Foot attempt\": 2, \"Head attempt\": 3}\n",
    "    corners = {\n",
    "        \"Top Left Corner\": 12,\n",
    "        \"Bottom Left Corner\": 3,\n",
    "        \"Top Right Corner\": 13,\n",
    "        \"Bottom Right Corner\": 4,\n",
    "        \"Centre\": [5, 11],\n",
    "        \"Unrecorded placement\": None\n",
    "    }\n",
    "    \n",
    "    for attempt, bp in bodyparts.items():\n",
    "        row = {}\n",
    "        for corner, place in corners.items():\n",
    "            row[corner] = count_shots(place, bp)\n",
    "        row[\"Missed\"] = missed_pen[missed_pen[\"bodypart\"] == bp].shape[0]\n",
    "        shots[attempt] = pd.DataFrame(row, index=[attempt])\n",
    "    \n",
    "    # Concatenate all attempts\n",
    "    fullstats = pd.concat([shots[\"Right Foot attempt\"], shots[\"Left Foot attempt\"], shots[\"Head attempt\"]])\n",
    "    \n",
    "    # Reorder columns\n",
    "    fullstats = fullstats[[\"Top Right Corner\",\"Bottom Right Corner\",\"Top Left Corner\",\"Bottom Left Corner\",\"Centre\",\"Unrecorded placement\",\"Missed\"]]\n",
    "    \n",
    "    return fullstats\n"
   ]
  },
  {
   "cell_type": "code",
   "execution_count": 88,
   "metadata": {
    "collapsed": false,
    "jupyter": {
     "outputs_hidden": false
    }
   },
   "outputs": [
    {
     "data": {
      "text/html": [
       "<div>\n",
       "<style scoped>\n",
       "    .dataframe tbody tr th:only-of-type {\n",
       "        vertical-align: middle;\n",
       "    }\n",
       "\n",
       "    .dataframe tbody tr th {\n",
       "        vertical-align: top;\n",
       "    }\n",
       "\n",
       "    .dataframe thead th {\n",
       "        text-align: right;\n",
       "    }\n",
       "</style>\n",
       "<table border=\"1\" class=\"dataframe\">\n",
       "  <thead>\n",
       "    <tr style=\"text-align: right;\">\n",
       "      <th></th>\n",
       "      <th>Top Right Corner</th>\n",
       "      <th>Bottom Right Corner</th>\n",
       "      <th>Top Left Corner</th>\n",
       "      <th>Bottom Left Corner</th>\n",
       "      <th>Centre</th>\n",
       "      <th>Unrecorded placement</th>\n",
       "      <th>Missed</th>\n",
       "    </tr>\n",
       "  </thead>\n",
       "  <tbody>\n",
       "    <tr>\n",
       "      <th>Right Foot attempt</th>\n",
       "      <td>2</td>\n",
       "      <td>11</td>\n",
       "      <td>1</td>\n",
       "      <td>12</td>\n",
       "      <td>4</td>\n",
       "      <td>0</td>\n",
       "      <td>79</td>\n",
       "    </tr>\n",
       "    <tr>\n",
       "      <th>Left Foot attempt</th>\n",
       "      <td>22</td>\n",
       "      <td>43</td>\n",
       "      <td>13</td>\n",
       "      <td>52</td>\n",
       "      <td>32</td>\n",
       "      <td>5</td>\n",
       "      <td>585</td>\n",
       "    </tr>\n",
       "    <tr>\n",
       "      <th>Head attempt</th>\n",
       "      <td>1</td>\n",
       "      <td>1</td>\n",
       "      <td>0</td>\n",
       "      <td>6</td>\n",
       "      <td>0</td>\n",
       "      <td>0</td>\n",
       "      <td>45</td>\n",
       "    </tr>\n",
       "  </tbody>\n",
       "</table>\n",
       "</div>"
      ],
      "text/plain": [
       "                    Top Right Corner  Bottom Right Corner  Top Left Corner  \\\n",
       "Right Foot attempt                 2                   11                1   \n",
       "Left Foot attempt                 22                   43               13   \n",
       "Head attempt                       1                    1                0   \n",
       "\n",
       "                    Bottom Left Corner  Centre  Unrecorded placement  Missed  \n",
       "Right Foot attempt                  12       4                     0      79  \n",
       "Left Foot attempt                   52      32                     5     585  \n",
       "Head attempt                         6       0                     0      45  "
      ]
     },
     "execution_count": 88,
     "metadata": {},
     "output_type": "execute_result"
    }
   ],
   "source": [
    "full_stats('lionel messi')"
   ]
  },
  {
   "cell_type": "code",
   "execution_count": 89,
   "metadata": {
    "collapsed": false,
    "jupyter": {
     "outputs_hidden": false
    }
   },
   "outputs": [
    {
     "data": {
      "text/html": [
       "<div>\n",
       "<style scoped>\n",
       "    .dataframe tbody tr th:only-of-type {\n",
       "        vertical-align: middle;\n",
       "    }\n",
       "\n",
       "    .dataframe tbody tr th {\n",
       "        vertical-align: top;\n",
       "    }\n",
       "\n",
       "    .dataframe thead th {\n",
       "        text-align: right;\n",
       "    }\n",
       "</style>\n",
       "<table border=\"1\" class=\"dataframe\">\n",
       "  <thead>\n",
       "    <tr style=\"text-align: right;\">\n",
       "      <th></th>\n",
       "      <th>Top Right Corner</th>\n",
       "      <th>Bottom Right Corner</th>\n",
       "      <th>Top Left Corner</th>\n",
       "      <th>Bottom Left Corner</th>\n",
       "      <th>Centre</th>\n",
       "      <th>Unrecorded placement</th>\n",
       "      <th>Missed</th>\n",
       "    </tr>\n",
       "  </thead>\n",
       "  <tbody>\n",
       "    <tr>\n",
       "      <th>Right Foot attempt</th>\n",
       "      <td>13</td>\n",
       "      <td>34</td>\n",
       "      <td>8</td>\n",
       "      <td>48</td>\n",
       "      <td>19</td>\n",
       "      <td>8</td>\n",
       "      <td>664</td>\n",
       "    </tr>\n",
       "    <tr>\n",
       "      <th>Left Foot attempt</th>\n",
       "      <td>0</td>\n",
       "      <td>9</td>\n",
       "      <td>1</td>\n",
       "      <td>9</td>\n",
       "      <td>11</td>\n",
       "      <td>2</td>\n",
       "      <td>205</td>\n",
       "    </tr>\n",
       "    <tr>\n",
       "      <th>Head attempt</th>\n",
       "      <td>1</td>\n",
       "      <td>8</td>\n",
       "      <td>7</td>\n",
       "      <td>11</td>\n",
       "      <td>8</td>\n",
       "      <td>1</td>\n",
       "      <td>123</td>\n",
       "    </tr>\n",
       "  </tbody>\n",
       "</table>\n",
       "</div>"
      ],
      "text/plain": [
       "                    Top Right Corner  Bottom Right Corner  Top Left Corner  \\\n",
       "Right Foot attempt                13                   34                8   \n",
       "Left Foot attempt                  0                    9                1   \n",
       "Head attempt                       1                    8                7   \n",
       "\n",
       "                    Bottom Left Corner  Centre  Unrecorded placement  Missed  \n",
       "Right Foot attempt                  48      19                     8     664  \n",
       "Left Foot attempt                    9      11                     2     205  \n",
       "Head attempt                        11       8                     1     123  "
      ]
     },
     "execution_count": 89,
     "metadata": {},
     "output_type": "execute_result"
    }
   ],
   "source": [
    "full_stats(\"cristiano ronaldo\")"
   ]
  },
  {
   "cell_type": "code",
   "execution_count": 90,
   "metadata": {
    "collapsed": false,
    "jupyter": {
     "outputs_hidden": false
    }
   },
   "outputs": [],
   "source": [
    "# Most effective player\n",
    "    ## Grouping by player when attempt == 1\n",
    "grouped_by_player = df_events[df_events['event_type'] == 1].groupby('player').count()\n",
    "\n",
    "## Grouping by player when is goal and attempt == 1\n",
    "grouped_by_player_goals = df_events[(df_events['event_type'] == 1) &\n",
    "                             (df_events['is_goal'] == 1)].groupby('player').count()\n",
    "\n",
    "## Grouping by player when is not goal and attempt == 1\n",
    "grouped_by_player_not_goals = df_events[(df_events['event_type'] == 1) &\n",
    "                             (df_events['is_goal'] == 0)].groupby('player').count()\n",
    "\n",
    "## Setting a threshold to filter out players with a small number of attempts, which can lead to a lack \n",
    "## of consistency in the final result\n",
    "threshold = grouped_by_player['id_event'].std()\n",
    "\n",
    "grouped_by_player_is_goal = df_events[df_events['is_goal'] == 1].groupby('player').count()\n",
    "## filtering players that have at least more than average number of chances to skip noise\n",
    "## For example, a player that has 2 attempts and 1 goal has a very high effectiveness, even though,\n",
    "## this particular player has not created many chances for his team\n",
    "grouped_by_player_is_goal_filtered = grouped_by_player_goals[grouped_by_player_goals['id_event'] > threshold]\n",
    "grouped_by_players_not_goal_filtered = grouped_by_player_not_goals[grouped_by_player_not_goals['id_event'] > threshold]\n",
    "\n",
    "## Total number of attemtps\n",
    "total = grouped_by_players_not_goal_filtered['id_event'] + grouped_by_player_is_goal_filtered['id_event']\n",
    "\n",
    "## Dividing the total of attempts by the attemtps which ended up in goals\n",
    "result = total/grouped_by_player_is_goal_filtered['id_event']\n",
    "\n",
    "## Dropping NaN values\n",
    "result.dropna(inplace=True)\n",
    "\n",
    "## Sorting results\n",
    "sorted_results = result.sort_values(ascending=True)\n",
    "\n",
    "## Extracting players names\n",
    "players = sorted_results[:10].index\n",
    "## Extracting value of effectiveness\n",
    "effectiveness = sorted_results[:10]\n",
    "\n",
    "## Plotting results\n",
    "plot_barplot(effectiveness, players, 'Players', \n",
    "            '# of shots needed to score a goal',\n",
    "            'Most effective players',\n",
    "            'RdBu_r', 8, 6)"
   ]
  },
  {
   "cell_type": "code",
   "execution_count": 91,
   "metadata": {
    "collapsed": false,
    "jupyter": {
     "outputs_hidden": false
    }
   },
   "outputs": [],
   "source": [
    "# # Most effective player\n",
    "#     ## Grouping by player when attempt == 1\n",
    "# grouped_by_player = df_events[df_events['event_type'] == 1].groupby('event_team').count()\n",
    "\n",
    "# ## Grouping by player when is goal and attempt == 1\n",
    "# grouped_by_player_goals = df_events[(df_events['event_type'] == 1) &\n",
    "#                              (df_events['is_goal'] == 1)].groupby('event_team').count()\n",
    "\n",
    "# ## Grouping by player when is not goal and attempt == 1\n",
    "# grouped_by_player_not_goals = df_events[(df_events['event_type'] == 1) &\n",
    "#                              (df_events['is_goal'] == 0)].groupby('event_team').count()\n",
    "\n",
    "# ## Setting a threshold to filter out players with a small number of attempts, which can lead to a lack \n",
    "# ## of consistency in the final result\n",
    "# threshold = grouped_by_player['id_event'].std()\n",
    "\n",
    "# grouped_by_player_is_goal = df_events[df_events['is_goal'] == 1].groupby('event_team').count()\n",
    "# ## filtering players that have at least more than average number of chances to skip noise\n",
    "# ## For example, a player that has 2 attempts and 1 goal has a very high effectiveness, even though,\n",
    "# ## this particular player has not created many chances for his team\n",
    "# grouped_by_player_is_goal_filtered = grouped_by_player_goals[grouped_by_player_goals['id_event'] > threshold]\n",
    "# grouped_by_players_not_goal_filtered = grouped_by_player_not_goals[grouped_by_player_not_goals['id_event'] > threshold]\n",
    "\n",
    "# ## Total number of attemtps\n",
    "# total = grouped_by_players_not_goal_filtered['id_event'] + grouped_by_player_is_goal_filtered['id_event']\n",
    "\n",
    "# ## Dividing the total of attempts by the attemtps which ended up in goals\n",
    "# result = total/grouped_by_player_is_goal_filtered['id_event']\n",
    "\n",
    "# ## Dropping NaN values\n",
    "# result.dropna(inplace=True)\n",
    "\n",
    "# ## Sorting results\n",
    "# sorted_results = result.sort_values(ascending=True)\n",
    "\n",
    "# ## Extracting players names\n",
    "# players = sorted_results[:10].index\n",
    "# ## Extracting value of effectiveness\n",
    "# effectiveness = sorted_results[:10]\n",
    "\n",
    "# ## Plotting results\n",
    "# plot_barplot(effectiveness, players, 'Players', \n",
    "#             '# of shots needed to score a goal',\n",
    "#             'Most effective players')"
   ]
  },
  {
   "cell_type": "code",
   "execution_count": 92,
   "metadata": {
    "collapsed": false,
    "jupyter": {
     "outputs_hidden": false
    }
   },
   "outputs": [],
   "source": [
    "grouped_by_player = df_events[df_events['event_type'] == 1].groupby('player').count()\n",
    "rouped_by_player_goals = df_events[(df_events['event_type'] == 1) &\n",
    "                             (df_events['is_goal'] == 1)].groupby('player').count()\n",
    "grouped_by_player_not_goals = df_events[(df_events['event_type'] == 1) &\n",
    "                             (df_events['is_goal'] == 0)].groupby('player').count()\n",
    "threshold = grouped_by_player['is_goal'].std()\n",
    "grouped_by_player_is_goal = df_events[df_events['is_goal'] == 1].groupby('player').count()\n",
    "grouped_by_player_is_goal_filtered = grouped_by_player_is_goal[grouped_by_player_is_goal['is_goal'] >= threshold ]\n",
    "grouped_by_players_not_goal_filtered = grouped_by_player_not_goals[grouped_by_player_not_goals['is_goal'] >= threshold ]\n",
    "\n",
    "## Total number of attemtps\n",
    "total = grouped_by_players_not_goal_filtered['id_event'] + grouped_by_player_is_goal_filtered['id_event']\n",
    "\n",
    "## Dividing the total of attempts by the attemtps which ended up in goals\n",
    "result = total/grouped_by_player_is_goal_filtered['id_event']\n",
    "\n",
    "## Dropping NaN values\n",
    "result.dropna(inplace=True)\n",
    "\n",
    "## Sorting results\n",
    "sorted_results = result.sort_values(ascending=True)\n",
    "\n",
    "## Extracting players names\n",
    "players = sorted_results[:10].index\n",
    "## Extracting value of effectiveness\n",
    "effectiveness = sorted_results[:10]\n",
    "\n",
    "## Plotting results\n",
    "plot_barplot(effectiveness, players, 'Players', \n",
    "            '# of shots needed to score a goal',\n",
    "            'Most effective players',\n",
    "            'RdBu_r', 8, 6)"
   ]
  },
  {
   "cell_type": "code",
   "execution_count": 93,
   "metadata": {
    "collapsed": false,
    "jupyter": {
     "outputs_hidden": false
    }
   },
   "outputs": [
    {
     "data": {
      "text/plain": [
       "73.90118408026115"
      ]
     },
     "execution_count": 93,
     "metadata": {},
     "output_type": "execute_result"
    }
   ],
   "source": [
    "threshold"
   ]
  },
  {
   "cell_type": "code",
   "execution_count": 94,
   "metadata": {
    "collapsed": false,
    "jupyter": {
     "outputs_hidden": false
    }
   },
   "outputs": [],
   "source": [
    "grouped_by_player = df_events[df_events['event_type'] == 1].groupby('event_team').count()\n",
    "rouped_by_player_goals = df_events[(df_events['event_type'] == 1) &\n",
    "                             (df_events['is_goal'] == 1)].groupby('event_team').count()\n",
    "grouped_by_player_not_goals = df_events[(df_events['event_type'] == 1) &\n",
    "                             (df_events['is_goal'] == 0)].groupby('event_team').count()\n",
    "threshold = grouped_by_player['is_goal'].std()\n",
    "grouped_by_player_is_goal = df_events[df_events['is_goal'] == 1].groupby('event_team').count()\n",
    "grouped_by_player_is_goal_filtered = grouped_by_player_is_goal\n",
    "grouped_by_players_not_goal_filtered = grouped_by_player_not_goals\n",
    "\n",
    "## Total number of attemtps\n",
    "total = grouped_by_players_not_goal_filtered['id_event'] + grouped_by_player_is_goal_filtered['id_event']\n",
    "\n",
    "## Dividing the total of attempts by the attemtps which ended up in goals\n",
    "result = total/grouped_by_player_is_goal_filtered['id_event']\n",
    "\n",
    "## Dropping NaN values\n",
    "result.dropna(inplace=True)\n",
    "\n",
    "## Sorting results\n",
    "sorted_results = result.sort_values(ascending=True)\n",
    "\n",
    "## Extracting players names\n",
    "players = sorted_results[:10].index\n",
    "## Extracting value of effectiveness\n",
    "effectiveness = sorted_results[:10]\n",
    "\n",
    "## Plotting results\n",
    "plot_barplot(effectiveness, players, 'Teams', \n",
    "            '# of shots needed to score a goal',\n",
    "            'Most effective teams',\n",
    "            'Blues_r', 8, 6)"
   ]
  },
  {
   "cell_type": "code",
   "execution_count": 95,
   "metadata": {
    "collapsed": false,
    "jupyter": {
     "outputs_hidden": false
    }
   },
   "outputs": [],
   "source": [
    "## Creating a dataframe with total of attempts and total goals\n",
    "result_df = pd.DataFrame({'total': total.dropna(), 'is_goal': grouped_by_player_is_goal_filtered['id_event']})\n",
    "## Sorting values by total\n",
    "result_df.sort_values('total', ascending=False, inplace=True)\n",
    "\n",
    "## Setting style to dark\n",
    "sns.set(style=\"darkgrid\")\n",
    "\n",
    "## Creating figure\n",
    "f, ax = plt.subplots(figsize=(10, 6))\n",
    "\n",
    "## Plotting chart\n",
    "sns.set_color_codes(\"pastel\")\n",
    "sns.barplot(x=\"total\",\n",
    "            y=result_df.index,\n",
    "            data=result_df,\n",
    "            label=\"# of attempts\", color=\"b\")\n",
    "\n",
    "sns.set_color_codes(\"muted\")\n",
    "sns.barplot(x='is_goal',\n",
    "            y=result_df.index, \n",
    "            data=result_df,\n",
    "            label=\"# of goals\", color=\"b\")\n",
    "\n",
    "ax.legend(ncol=2, loc=\"lower right\", frameon=True)\n",
    "ax.set(ylabel=\"Players\",\n",
    "       xlabel=\"Number of goals x attempts\", title='Player effectiveness')\n",
    "\n",
    "each = result_df['is_goal'].values\n",
    "the_total = result_df['total'].values\n",
    "x_position = 50\n",
    "\n",
    "for i in range(len(ax.patches[:15])):\n",
    "    ax.text(ax.patches[i].get_width() - x_position, ax.patches[i].get_y() +.50, \n",
    "            str(round((each[i]/the_total[i])*100, 2))+'%')\n",
    "    \n",
    "sns.despine(left=True, bottom=True)\n",
    "f.tight_layout()"
   ]
  },
  {
   "cell_type": "code",
   "execution_count": 96,
   "metadata": {
    "collapsed": false,
    "jupyter": {
     "outputs_hidden": false
    }
   },
   "outputs": [
    {
     "data": {
      "text/plain": [
       "event_team\n",
       "AC Ajaccio           114\n",
       "AC Milan             329\n",
       "AJ Auxerre            46\n",
       "AS Monaco            233\n",
       "AS Nancy Lorraine     88\n",
       "                    ... \n",
       "Villarreal           207\n",
       "Watford               65\n",
       "Werder Bremen        254\n",
       "West Brom            139\n",
       "West Ham             174\n",
       "Name: id_event, Length: 142, dtype: int64"
      ]
     },
     "execution_count": 96,
     "metadata": {},
     "output_type": "execute_result"
    }
   ],
   "source": [
    "grouped_by_player_is_goal_filtered['id_event']"
   ]
  },
  {
   "cell_type": "code",
   "execution_count": 97,
   "metadata": {
    "collapsed": false,
    "jupyter": {
     "outputs_hidden": false
    }
   },
   "outputs": [
    {
     "data": {
      "text/plain": [
       "Index(['Barcelona', 'Paris Saint-Germain', 'Real Madrid', 'Bayern Munich',\n",
       "       'RB Leipzig', 'AS Monaco', 'Borussia Dortmund', 'Atletico Madrid',\n",
       "       'Manchester City', 'Lyon'],\n",
       "      dtype='object', name='event_team')"
      ]
     },
     "execution_count": 97,
     "metadata": {},
     "output_type": "execute_result"
    }
   ],
   "source": [
    "players = sorted_results[:10].index\n",
    "players"
   ]
  },
  {
   "cell_type": "code",
   "execution_count": 98,
   "metadata": {
    "collapsed": false,
    "jupyter": {
     "outputs_hidden": false
    }
   },
   "outputs": [
    {
     "data": {
      "text/plain": [
       "895.9490994372053"
      ]
     },
     "execution_count": 98,
     "metadata": {},
     "output_type": "execute_result"
    }
   ],
   "source": [
    "threshold"
   ]
  },
  {
   "cell_type": "code",
   "execution_count": 99,
   "metadata": {
    "collapsed": false,
    "jupyter": {
     "outputs_hidden": false
    }
   },
   "outputs": [
    {
     "data": {
      "text/html": [
       "<div>\n",
       "<style scoped>\n",
       "    .dataframe tbody tr th:only-of-type {\n",
       "        vertical-align: middle;\n",
       "    }\n",
       "\n",
       "    .dataframe tbody tr th {\n",
       "        vertical-align: top;\n",
       "    }\n",
       "\n",
       "    .dataframe thead th {\n",
       "        text-align: right;\n",
       "    }\n",
       "</style>\n",
       "<table border=\"1\" class=\"dataframe\">\n",
       "  <thead>\n",
       "    <tr style=\"text-align: right;\">\n",
       "      <th></th>\n",
       "      <th>id_odsp</th>\n",
       "      <th>id_event</th>\n",
       "      <th>sort_order</th>\n",
       "      <th>time</th>\n",
       "      <th>text</th>\n",
       "      <th>event_type</th>\n",
       "      <th>event_type2</th>\n",
       "      <th>side</th>\n",
       "      <th>opponent</th>\n",
       "      <th>player</th>\n",
       "      <th>...</th>\n",
       "      <th>is_goal</th>\n",
       "      <th>location</th>\n",
       "      <th>bodypart</th>\n",
       "      <th>assist_method</th>\n",
       "      <th>situation</th>\n",
       "      <th>fast_break</th>\n",
       "      <th>date</th>\n",
       "      <th>league</th>\n",
       "      <th>season</th>\n",
       "      <th>country</th>\n",
       "    </tr>\n",
       "    <tr>\n",
       "      <th>event_team</th>\n",
       "      <th></th>\n",
       "      <th></th>\n",
       "      <th></th>\n",
       "      <th></th>\n",
       "      <th></th>\n",
       "      <th></th>\n",
       "      <th></th>\n",
       "      <th></th>\n",
       "      <th></th>\n",
       "      <th></th>\n",
       "      <th></th>\n",
       "      <th></th>\n",
       "      <th></th>\n",
       "      <th></th>\n",
       "      <th></th>\n",
       "      <th></th>\n",
       "      <th></th>\n",
       "      <th></th>\n",
       "      <th></th>\n",
       "      <th></th>\n",
       "      <th></th>\n",
       "    </tr>\n",
       "  </thead>\n",
       "  <tbody>\n",
       "    <tr>\n",
       "      <th>AC Ajaccio</th>\n",
       "      <td>114</td>\n",
       "      <td>114</td>\n",
       "      <td>114</td>\n",
       "      <td>114</td>\n",
       "      <td>114</td>\n",
       "      <td>114</td>\n",
       "      <td>80</td>\n",
       "      <td>114</td>\n",
       "      <td>114</td>\n",
       "      <td>114</td>\n",
       "      <td>...</td>\n",
       "      <td>114</td>\n",
       "      <td>114</td>\n",
       "      <td>114</td>\n",
       "      <td>114</td>\n",
       "      <td>114</td>\n",
       "      <td>114</td>\n",
       "      <td>114</td>\n",
       "      <td>114</td>\n",
       "      <td>114</td>\n",
       "      <td>114</td>\n",
       "    </tr>\n",
       "    <tr>\n",
       "      <th>AC Milan</th>\n",
       "      <td>329</td>\n",
       "      <td>329</td>\n",
       "      <td>329</td>\n",
       "      <td>329</td>\n",
       "      <td>329</td>\n",
       "      <td>329</td>\n",
       "      <td>212</td>\n",
       "      <td>329</td>\n",
       "      <td>329</td>\n",
       "      <td>329</td>\n",
       "      <td>...</td>\n",
       "      <td>329</td>\n",
       "      <td>329</td>\n",
       "      <td>329</td>\n",
       "      <td>329</td>\n",
       "      <td>329</td>\n",
       "      <td>329</td>\n",
       "      <td>329</td>\n",
       "      <td>329</td>\n",
       "      <td>329</td>\n",
       "      <td>329</td>\n",
       "    </tr>\n",
       "    <tr>\n",
       "      <th>AJ Auxerre</th>\n",
       "      <td>46</td>\n",
       "      <td>46</td>\n",
       "      <td>46</td>\n",
       "      <td>46</td>\n",
       "      <td>46</td>\n",
       "      <td>46</td>\n",
       "      <td>29</td>\n",
       "      <td>46</td>\n",
       "      <td>46</td>\n",
       "      <td>46</td>\n",
       "      <td>...</td>\n",
       "      <td>46</td>\n",
       "      <td>46</td>\n",
       "      <td>46</td>\n",
       "      <td>46</td>\n",
       "      <td>46</td>\n",
       "      <td>46</td>\n",
       "      <td>46</td>\n",
       "      <td>46</td>\n",
       "      <td>46</td>\n",
       "      <td>46</td>\n",
       "    </tr>\n",
       "    <tr>\n",
       "      <th>AS Monaco</th>\n",
       "      <td>233</td>\n",
       "      <td>233</td>\n",
       "      <td>233</td>\n",
       "      <td>233</td>\n",
       "      <td>233</td>\n",
       "      <td>233</td>\n",
       "      <td>154</td>\n",
       "      <td>233</td>\n",
       "      <td>233</td>\n",
       "      <td>233</td>\n",
       "      <td>...</td>\n",
       "      <td>233</td>\n",
       "      <td>233</td>\n",
       "      <td>233</td>\n",
       "      <td>233</td>\n",
       "      <td>233</td>\n",
       "      <td>233</td>\n",
       "      <td>233</td>\n",
       "      <td>233</td>\n",
       "      <td>233</td>\n",
       "      <td>233</td>\n",
       "    </tr>\n",
       "    <tr>\n",
       "      <th>AS Nancy Lorraine</th>\n",
       "      <td>88</td>\n",
       "      <td>88</td>\n",
       "      <td>88</td>\n",
       "      <td>88</td>\n",
       "      <td>88</td>\n",
       "      <td>88</td>\n",
       "      <td>64</td>\n",
       "      <td>88</td>\n",
       "      <td>88</td>\n",
       "      <td>88</td>\n",
       "      <td>...</td>\n",
       "      <td>88</td>\n",
       "      <td>88</td>\n",
       "      <td>88</td>\n",
       "      <td>88</td>\n",
       "      <td>88</td>\n",
       "      <td>88</td>\n",
       "      <td>88</td>\n",
       "      <td>88</td>\n",
       "      <td>88</td>\n",
       "      <td>88</td>\n",
       "    </tr>\n",
       "    <tr>\n",
       "      <th>...</th>\n",
       "      <td>...</td>\n",
       "      <td>...</td>\n",
       "      <td>...</td>\n",
       "      <td>...</td>\n",
       "      <td>...</td>\n",
       "      <td>...</td>\n",
       "      <td>...</td>\n",
       "      <td>...</td>\n",
       "      <td>...</td>\n",
       "      <td>...</td>\n",
       "      <td>...</td>\n",
       "      <td>...</td>\n",
       "      <td>...</td>\n",
       "      <td>...</td>\n",
       "      <td>...</td>\n",
       "      <td>...</td>\n",
       "      <td>...</td>\n",
       "      <td>...</td>\n",
       "      <td>...</td>\n",
       "      <td>...</td>\n",
       "      <td>...</td>\n",
       "    </tr>\n",
       "    <tr>\n",
       "      <th>Villarreal</th>\n",
       "      <td>207</td>\n",
       "      <td>207</td>\n",
       "      <td>207</td>\n",
       "      <td>207</td>\n",
       "      <td>207</td>\n",
       "      <td>207</td>\n",
       "      <td>144</td>\n",
       "      <td>207</td>\n",
       "      <td>207</td>\n",
       "      <td>207</td>\n",
       "      <td>...</td>\n",
       "      <td>207</td>\n",
       "      <td>207</td>\n",
       "      <td>207</td>\n",
       "      <td>207</td>\n",
       "      <td>207</td>\n",
       "      <td>207</td>\n",
       "      <td>207</td>\n",
       "      <td>207</td>\n",
       "      <td>207</td>\n",
       "      <td>207</td>\n",
       "    </tr>\n",
       "    <tr>\n",
       "      <th>Watford</th>\n",
       "      <td>65</td>\n",
       "      <td>65</td>\n",
       "      <td>65</td>\n",
       "      <td>65</td>\n",
       "      <td>65</td>\n",
       "      <td>65</td>\n",
       "      <td>41</td>\n",
       "      <td>65</td>\n",
       "      <td>65</td>\n",
       "      <td>65</td>\n",
       "      <td>...</td>\n",
       "      <td>65</td>\n",
       "      <td>65</td>\n",
       "      <td>65</td>\n",
       "      <td>65</td>\n",
       "      <td>65</td>\n",
       "      <td>65</td>\n",
       "      <td>65</td>\n",
       "      <td>65</td>\n",
       "      <td>65</td>\n",
       "      <td>65</td>\n",
       "    </tr>\n",
       "    <tr>\n",
       "      <th>Werder Bremen</th>\n",
       "      <td>254</td>\n",
       "      <td>254</td>\n",
       "      <td>254</td>\n",
       "      <td>254</td>\n",
       "      <td>254</td>\n",
       "      <td>254</td>\n",
       "      <td>185</td>\n",
       "      <td>254</td>\n",
       "      <td>254</td>\n",
       "      <td>254</td>\n",
       "      <td>...</td>\n",
       "      <td>254</td>\n",
       "      <td>254</td>\n",
       "      <td>254</td>\n",
       "      <td>254</td>\n",
       "      <td>254</td>\n",
       "      <td>254</td>\n",
       "      <td>254</td>\n",
       "      <td>254</td>\n",
       "      <td>254</td>\n",
       "      <td>254</td>\n",
       "    </tr>\n",
       "    <tr>\n",
       "      <th>West Brom</th>\n",
       "      <td>139</td>\n",
       "      <td>139</td>\n",
       "      <td>139</td>\n",
       "      <td>139</td>\n",
       "      <td>139</td>\n",
       "      <td>139</td>\n",
       "      <td>104</td>\n",
       "      <td>139</td>\n",
       "      <td>139</td>\n",
       "      <td>139</td>\n",
       "      <td>...</td>\n",
       "      <td>139</td>\n",
       "      <td>139</td>\n",
       "      <td>139</td>\n",
       "      <td>139</td>\n",
       "      <td>139</td>\n",
       "      <td>139</td>\n",
       "      <td>139</td>\n",
       "      <td>139</td>\n",
       "      <td>139</td>\n",
       "      <td>139</td>\n",
       "    </tr>\n",
       "    <tr>\n",
       "      <th>West Ham</th>\n",
       "      <td>174</td>\n",
       "      <td>174</td>\n",
       "      <td>174</td>\n",
       "      <td>174</td>\n",
       "      <td>174</td>\n",
       "      <td>174</td>\n",
       "      <td>120</td>\n",
       "      <td>174</td>\n",
       "      <td>174</td>\n",
       "      <td>174</td>\n",
       "      <td>...</td>\n",
       "      <td>174</td>\n",
       "      <td>174</td>\n",
       "      <td>174</td>\n",
       "      <td>174</td>\n",
       "      <td>174</td>\n",
       "      <td>174</td>\n",
       "      <td>174</td>\n",
       "      <td>174</td>\n",
       "      <td>174</td>\n",
       "      <td>174</td>\n",
       "    </tr>\n",
       "  </tbody>\n",
       "</table>\n",
       "<p>142 rows × 25 columns</p>\n",
       "</div>"
      ],
      "text/plain": [
       "                   id_odsp  id_event  sort_order  time  text  event_type  \\\n",
       "event_team                                                                 \n",
       "AC Ajaccio             114       114         114   114   114         114   \n",
       "AC Milan               329       329         329   329   329         329   \n",
       "AJ Auxerre              46        46          46    46    46          46   \n",
       "AS Monaco              233       233         233   233   233         233   \n",
       "AS Nancy Lorraine       88        88          88    88    88          88   \n",
       "...                    ...       ...         ...   ...   ...         ...   \n",
       "Villarreal             207       207         207   207   207         207   \n",
       "Watford                 65        65          65    65    65          65   \n",
       "Werder Bremen          254       254         254   254   254         254   \n",
       "West Brom              139       139         139   139   139         139   \n",
       "West Ham               174       174         174   174   174         174   \n",
       "\n",
       "                   event_type2  side  opponent  player  ...  is_goal  \\\n",
       "event_team                                              ...            \n",
       "AC Ajaccio                  80   114       114     114  ...      114   \n",
       "AC Milan                   212   329       329     329  ...      329   \n",
       "AJ Auxerre                  29    46        46      46  ...       46   \n",
       "AS Monaco                  154   233       233     233  ...      233   \n",
       "AS Nancy Lorraine           64    88        88      88  ...       88   \n",
       "...                        ...   ...       ...     ...  ...      ...   \n",
       "Villarreal                 144   207       207     207  ...      207   \n",
       "Watford                     41    65        65      65  ...       65   \n",
       "Werder Bremen              185   254       254     254  ...      254   \n",
       "West Brom                  104   139       139     139  ...      139   \n",
       "West Ham                   120   174       174     174  ...      174   \n",
       "\n",
       "                   location  bodypart  assist_method  situation  fast_break  \\\n",
       "event_team                                                                    \n",
       "AC Ajaccio              114       114            114        114         114   \n",
       "AC Milan                329       329            329        329         329   \n",
       "AJ Auxerre               46        46             46         46          46   \n",
       "AS Monaco               233       233            233        233         233   \n",
       "AS Nancy Lorraine        88        88             88         88          88   \n",
       "...                     ...       ...            ...        ...         ...   \n",
       "Villarreal              207       207            207        207         207   \n",
       "Watford                  65        65             65         65          65   \n",
       "Werder Bremen           254       254            254        254         254   \n",
       "West Brom               139       139            139        139         139   \n",
       "West Ham                174       174            174        174         174   \n",
       "\n",
       "                   date  league  season  country  \n",
       "event_team                                        \n",
       "AC Ajaccio          114     114     114      114  \n",
       "AC Milan            329     329     329      329  \n",
       "AJ Auxerre           46      46      46       46  \n",
       "AS Monaco           233     233     233      233  \n",
       "AS Nancy Lorraine    88      88      88       88  \n",
       "...                 ...     ...     ...      ...  \n",
       "Villarreal          207     207     207      207  \n",
       "Watford              65      65      65       65  \n",
       "Werder Bremen       254     254     254      254  \n",
       "West Brom           139     139     139      139  \n",
       "West Ham            174     174     174      174  \n",
       "\n",
       "[142 rows x 25 columns]"
      ]
     },
     "execution_count": 99,
     "metadata": {},
     "output_type": "execute_result"
    }
   ],
   "source": [
    "grouped_by_player_is_goal_filtered"
   ]
  },
  {
   "cell_type": "code",
   "execution_count": 100,
   "metadata": {
    "collapsed": false,
    "jupyter": {
     "outputs_hidden": false
    }
   },
   "outputs": [],
   "source": [
    "grouped_by_player = df_events[df_events['event_type'] == 1].groupby('event_team').count()\n",
    "rouped_by_player_goals = df_events[(df_events['event_type'] == 1) &\n",
    "                             (df_events['is_goal'] == 1)].groupby('event_team').count()\n",
    "grouped_by_player_not_goals = df_events[(df_events['event_type'] == 1) &\n",
    "                             (df_events['is_goal'] == 0)].groupby('event_team').count()\n",
    "threshold = grouped_by_player['id_event'].std()\n",
    "grouped_by_player_is_goal = df_events[df_events['is_goal'] == 1].groupby('event_team').count()\n",
    "grouped_by_player_is_goal_filtered = grouped_by_player_goals[grouped_by_player_goals['id_event'] > threshold]\n"
   ]
  },
  {
   "cell_type": "code",
   "execution_count": 101,
   "metadata": {
    "collapsed": false,
    "jupyter": {
     "outputs_hidden": false
    }
   },
   "outputs": [
    {
     "data": {
      "text/plain": [
       "895.9490994372053"
      ]
     },
     "execution_count": 101,
     "metadata": {},
     "output_type": "execute_result"
    }
   ],
   "source": [
    "threshold"
   ]
  },
  {
   "cell_type": "code",
   "execution_count": 102,
   "metadata": {
    "collapsed": false,
    "jupyter": {
     "outputs_hidden": false
    }
   },
   "outputs": [
    {
     "data": {
      "text/html": [
       "<div>\n",
       "<style scoped>\n",
       "    .dataframe tbody tr th:only-of-type {\n",
       "        vertical-align: middle;\n",
       "    }\n",
       "\n",
       "    .dataframe tbody tr th {\n",
       "        vertical-align: top;\n",
       "    }\n",
       "\n",
       "    .dataframe thead th {\n",
       "        text-align: right;\n",
       "    }\n",
       "</style>\n",
       "<table border=\"1\" class=\"dataframe\">\n",
       "  <thead>\n",
       "    <tr style=\"text-align: right;\">\n",
       "      <th></th>\n",
       "      <th>id_odsp</th>\n",
       "      <th>id_event</th>\n",
       "      <th>sort_order</th>\n",
       "      <th>time</th>\n",
       "      <th>text</th>\n",
       "      <th>event_type</th>\n",
       "      <th>event_type2</th>\n",
       "      <th>side</th>\n",
       "      <th>opponent</th>\n",
       "      <th>player</th>\n",
       "      <th>...</th>\n",
       "      <th>is_goal</th>\n",
       "      <th>location</th>\n",
       "      <th>bodypart</th>\n",
       "      <th>assist_method</th>\n",
       "      <th>situation</th>\n",
       "      <th>fast_break</th>\n",
       "      <th>date</th>\n",
       "      <th>league</th>\n",
       "      <th>season</th>\n",
       "      <th>country</th>\n",
       "    </tr>\n",
       "    <tr>\n",
       "      <th>event_team</th>\n",
       "      <th></th>\n",
       "      <th></th>\n",
       "      <th></th>\n",
       "      <th></th>\n",
       "      <th></th>\n",
       "      <th></th>\n",
       "      <th></th>\n",
       "      <th></th>\n",
       "      <th></th>\n",
       "      <th></th>\n",
       "      <th></th>\n",
       "      <th></th>\n",
       "      <th></th>\n",
       "      <th></th>\n",
       "      <th></th>\n",
       "      <th></th>\n",
       "      <th></th>\n",
       "      <th></th>\n",
       "      <th></th>\n",
       "      <th></th>\n",
       "      <th></th>\n",
       "    </tr>\n",
       "  </thead>\n",
       "  <tbody>\n",
       "    <tr>\n",
       "      <th>AC Ajaccio</th>\n",
       "      <td>114</td>\n",
       "      <td>114</td>\n",
       "      <td>114</td>\n",
       "      <td>114</td>\n",
       "      <td>114</td>\n",
       "      <td>114</td>\n",
       "      <td>80</td>\n",
       "      <td>114</td>\n",
       "      <td>114</td>\n",
       "      <td>114</td>\n",
       "      <td>...</td>\n",
       "      <td>114</td>\n",
       "      <td>114</td>\n",
       "      <td>114</td>\n",
       "      <td>114</td>\n",
       "      <td>114</td>\n",
       "      <td>114</td>\n",
       "      <td>114</td>\n",
       "      <td>114</td>\n",
       "      <td>114</td>\n",
       "      <td>114</td>\n",
       "    </tr>\n",
       "    <tr>\n",
       "      <th>AC Milan</th>\n",
       "      <td>329</td>\n",
       "      <td>329</td>\n",
       "      <td>329</td>\n",
       "      <td>329</td>\n",
       "      <td>329</td>\n",
       "      <td>329</td>\n",
       "      <td>212</td>\n",
       "      <td>329</td>\n",
       "      <td>329</td>\n",
       "      <td>329</td>\n",
       "      <td>...</td>\n",
       "      <td>329</td>\n",
       "      <td>329</td>\n",
       "      <td>329</td>\n",
       "      <td>329</td>\n",
       "      <td>329</td>\n",
       "      <td>329</td>\n",
       "      <td>329</td>\n",
       "      <td>329</td>\n",
       "      <td>329</td>\n",
       "      <td>329</td>\n",
       "    </tr>\n",
       "    <tr>\n",
       "      <th>AJ Auxerre</th>\n",
       "      <td>46</td>\n",
       "      <td>46</td>\n",
       "      <td>46</td>\n",
       "      <td>46</td>\n",
       "      <td>46</td>\n",
       "      <td>46</td>\n",
       "      <td>29</td>\n",
       "      <td>46</td>\n",
       "      <td>46</td>\n",
       "      <td>46</td>\n",
       "      <td>...</td>\n",
       "      <td>46</td>\n",
       "      <td>46</td>\n",
       "      <td>46</td>\n",
       "      <td>46</td>\n",
       "      <td>46</td>\n",
       "      <td>46</td>\n",
       "      <td>46</td>\n",
       "      <td>46</td>\n",
       "      <td>46</td>\n",
       "      <td>46</td>\n",
       "    </tr>\n",
       "    <tr>\n",
       "      <th>AS Monaco</th>\n",
       "      <td>233</td>\n",
       "      <td>233</td>\n",
       "      <td>233</td>\n",
       "      <td>233</td>\n",
       "      <td>233</td>\n",
       "      <td>233</td>\n",
       "      <td>154</td>\n",
       "      <td>233</td>\n",
       "      <td>233</td>\n",
       "      <td>233</td>\n",
       "      <td>...</td>\n",
       "      <td>233</td>\n",
       "      <td>233</td>\n",
       "      <td>233</td>\n",
       "      <td>233</td>\n",
       "      <td>233</td>\n",
       "      <td>233</td>\n",
       "      <td>233</td>\n",
       "      <td>233</td>\n",
       "      <td>233</td>\n",
       "      <td>233</td>\n",
       "    </tr>\n",
       "    <tr>\n",
       "      <th>AS Nancy Lorraine</th>\n",
       "      <td>88</td>\n",
       "      <td>88</td>\n",
       "      <td>88</td>\n",
       "      <td>88</td>\n",
       "      <td>88</td>\n",
       "      <td>88</td>\n",
       "      <td>64</td>\n",
       "      <td>88</td>\n",
       "      <td>88</td>\n",
       "      <td>88</td>\n",
       "      <td>...</td>\n",
       "      <td>88</td>\n",
       "      <td>88</td>\n",
       "      <td>88</td>\n",
       "      <td>88</td>\n",
       "      <td>88</td>\n",
       "      <td>88</td>\n",
       "      <td>88</td>\n",
       "      <td>88</td>\n",
       "      <td>88</td>\n",
       "      <td>88</td>\n",
       "    </tr>\n",
       "    <tr>\n",
       "      <th>...</th>\n",
       "      <td>...</td>\n",
       "      <td>...</td>\n",
       "      <td>...</td>\n",
       "      <td>...</td>\n",
       "      <td>...</td>\n",
       "      <td>...</td>\n",
       "      <td>...</td>\n",
       "      <td>...</td>\n",
       "      <td>...</td>\n",
       "      <td>...</td>\n",
       "      <td>...</td>\n",
       "      <td>...</td>\n",
       "      <td>...</td>\n",
       "      <td>...</td>\n",
       "      <td>...</td>\n",
       "      <td>...</td>\n",
       "      <td>...</td>\n",
       "      <td>...</td>\n",
       "      <td>...</td>\n",
       "      <td>...</td>\n",
       "      <td>...</td>\n",
       "    </tr>\n",
       "    <tr>\n",
       "      <th>Villarreal</th>\n",
       "      <td>207</td>\n",
       "      <td>207</td>\n",
       "      <td>207</td>\n",
       "      <td>207</td>\n",
       "      <td>207</td>\n",
       "      <td>207</td>\n",
       "      <td>144</td>\n",
       "      <td>207</td>\n",
       "      <td>207</td>\n",
       "      <td>207</td>\n",
       "      <td>...</td>\n",
       "      <td>207</td>\n",
       "      <td>207</td>\n",
       "      <td>207</td>\n",
       "      <td>207</td>\n",
       "      <td>207</td>\n",
       "      <td>207</td>\n",
       "      <td>207</td>\n",
       "      <td>207</td>\n",
       "      <td>207</td>\n",
       "      <td>207</td>\n",
       "    </tr>\n",
       "    <tr>\n",
       "      <th>Watford</th>\n",
       "      <td>65</td>\n",
       "      <td>65</td>\n",
       "      <td>65</td>\n",
       "      <td>65</td>\n",
       "      <td>65</td>\n",
       "      <td>65</td>\n",
       "      <td>41</td>\n",
       "      <td>65</td>\n",
       "      <td>65</td>\n",
       "      <td>65</td>\n",
       "      <td>...</td>\n",
       "      <td>65</td>\n",
       "      <td>65</td>\n",
       "      <td>65</td>\n",
       "      <td>65</td>\n",
       "      <td>65</td>\n",
       "      <td>65</td>\n",
       "      <td>65</td>\n",
       "      <td>65</td>\n",
       "      <td>65</td>\n",
       "      <td>65</td>\n",
       "    </tr>\n",
       "    <tr>\n",
       "      <th>Werder Bremen</th>\n",
       "      <td>254</td>\n",
       "      <td>254</td>\n",
       "      <td>254</td>\n",
       "      <td>254</td>\n",
       "      <td>254</td>\n",
       "      <td>254</td>\n",
       "      <td>185</td>\n",
       "      <td>254</td>\n",
       "      <td>254</td>\n",
       "      <td>254</td>\n",
       "      <td>...</td>\n",
       "      <td>254</td>\n",
       "      <td>254</td>\n",
       "      <td>254</td>\n",
       "      <td>254</td>\n",
       "      <td>254</td>\n",
       "      <td>254</td>\n",
       "      <td>254</td>\n",
       "      <td>254</td>\n",
       "      <td>254</td>\n",
       "      <td>254</td>\n",
       "    </tr>\n",
       "    <tr>\n",
       "      <th>West Brom</th>\n",
       "      <td>139</td>\n",
       "      <td>139</td>\n",
       "      <td>139</td>\n",
       "      <td>139</td>\n",
       "      <td>139</td>\n",
       "      <td>139</td>\n",
       "      <td>104</td>\n",
       "      <td>139</td>\n",
       "      <td>139</td>\n",
       "      <td>139</td>\n",
       "      <td>...</td>\n",
       "      <td>139</td>\n",
       "      <td>139</td>\n",
       "      <td>139</td>\n",
       "      <td>139</td>\n",
       "      <td>139</td>\n",
       "      <td>139</td>\n",
       "      <td>139</td>\n",
       "      <td>139</td>\n",
       "      <td>139</td>\n",
       "      <td>139</td>\n",
       "    </tr>\n",
       "    <tr>\n",
       "      <th>West Ham</th>\n",
       "      <td>174</td>\n",
       "      <td>174</td>\n",
       "      <td>174</td>\n",
       "      <td>174</td>\n",
       "      <td>174</td>\n",
       "      <td>174</td>\n",
       "      <td>120</td>\n",
       "      <td>174</td>\n",
       "      <td>174</td>\n",
       "      <td>174</td>\n",
       "      <td>...</td>\n",
       "      <td>174</td>\n",
       "      <td>174</td>\n",
       "      <td>174</td>\n",
       "      <td>174</td>\n",
       "      <td>174</td>\n",
       "      <td>174</td>\n",
       "      <td>174</td>\n",
       "      <td>174</td>\n",
       "      <td>174</td>\n",
       "      <td>174</td>\n",
       "    </tr>\n",
       "  </tbody>\n",
       "</table>\n",
       "<p>142 rows × 25 columns</p>\n",
       "</div>"
      ],
      "text/plain": [
       "                   id_odsp  id_event  sort_order  time  text  event_type  \\\n",
       "event_team                                                                 \n",
       "AC Ajaccio             114       114         114   114   114         114   \n",
       "AC Milan               329       329         329   329   329         329   \n",
       "AJ Auxerre              46        46          46    46    46          46   \n",
       "AS Monaco              233       233         233   233   233         233   \n",
       "AS Nancy Lorraine       88        88          88    88    88          88   \n",
       "...                    ...       ...         ...   ...   ...         ...   \n",
       "Villarreal             207       207         207   207   207         207   \n",
       "Watford                 65        65          65    65    65          65   \n",
       "Werder Bremen          254       254         254   254   254         254   \n",
       "West Brom              139       139         139   139   139         139   \n",
       "West Ham               174       174         174   174   174         174   \n",
       "\n",
       "                   event_type2  side  opponent  player  ...  is_goal  \\\n",
       "event_team                                              ...            \n",
       "AC Ajaccio                  80   114       114     114  ...      114   \n",
       "AC Milan                   212   329       329     329  ...      329   \n",
       "AJ Auxerre                  29    46        46      46  ...       46   \n",
       "AS Monaco                  154   233       233     233  ...      233   \n",
       "AS Nancy Lorraine           64    88        88      88  ...       88   \n",
       "...                        ...   ...       ...     ...  ...      ...   \n",
       "Villarreal                 144   207       207     207  ...      207   \n",
       "Watford                     41    65        65      65  ...       65   \n",
       "Werder Bremen              185   254       254     254  ...      254   \n",
       "West Brom                  104   139       139     139  ...      139   \n",
       "West Ham                   120   174       174     174  ...      174   \n",
       "\n",
       "                   location  bodypart  assist_method  situation  fast_break  \\\n",
       "event_team                                                                    \n",
       "AC Ajaccio              114       114            114        114         114   \n",
       "AC Milan                329       329            329        329         329   \n",
       "AJ Auxerre               46        46             46         46          46   \n",
       "AS Monaco               233       233            233        233         233   \n",
       "AS Nancy Lorraine        88        88             88         88          88   \n",
       "...                     ...       ...            ...        ...         ...   \n",
       "Villarreal              207       207            207        207         207   \n",
       "Watford                  65        65             65         65          65   \n",
       "Werder Bremen           254       254            254        254         254   \n",
       "West Brom               139       139            139        139         139   \n",
       "West Ham                174       174            174        174         174   \n",
       "\n",
       "                   date  league  season  country  \n",
       "event_team                                        \n",
       "AC Ajaccio          114     114     114      114  \n",
       "AC Milan            329     329     329      329  \n",
       "AJ Auxerre           46      46      46       46  \n",
       "AS Monaco           233     233     233      233  \n",
       "AS Nancy Lorraine    88      88      88       88  \n",
       "...                 ...     ...     ...      ...  \n",
       "Villarreal          207     207     207      207  \n",
       "Watford              65      65      65       65  \n",
       "Werder Bremen       254     254     254      254  \n",
       "West Brom           139     139     139      139  \n",
       "West Ham            174     174     174      174  \n",
       "\n",
       "[142 rows x 25 columns]"
      ]
     },
     "execution_count": 102,
     "metadata": {},
     "output_type": "execute_result"
    }
   ],
   "source": [
    "grouped_by_player_is_goal"
   ]
  },
  {
   "cell_type": "code",
   "execution_count": null,
   "metadata": {},
   "outputs": [],
   "source": []
  }
 ],
 "metadata": {
  "kernelspec": {
   "display_name": "Python [conda env:base] *",
   "language": "python",
   "name": "conda-base-py"
  },
  "language_info": {
   "codemirror_mode": {
    "name": "ipython",
    "version": 3
   },
   "file_extension": ".py",
   "mimetype": "text/x-python",
   "name": "python",
   "nbconvert_exporter": "python",
   "pygments_lexer": "ipython3",
   "version": "3.13.5"
  }
 },
 "nbformat": 4,
 "nbformat_minor": 4
}
